{
  "cells": [
    {
      "cell_type": "code",
      "execution_count": 3,
      "metadata": {
        "colab": {
          "base_uri": "https://localhost:8080/"
        },
        "id": "JQ2y1DaF8kA8",
        "outputId": "7cee39c3-6c99-4a3c-e1ff-955c467a18c3"
      },
      "outputs": [
        {
          "output_type": "stream",
          "name": "stdout",
          "text": [
            "Looking in indexes: https://pypi.org/simple, https://us-python.pkg.dev/colab-wheels/public/simple/\n",
            "Requirement already satisfied: pyspark in /usr/local/lib/python3.10/dist-packages (3.4.0)\n",
            "Requirement already satisfied: py4j==0.10.9.7 in /usr/local/lib/python3.10/dist-packages (from pyspark) (0.10.9.7)\n"
          ]
        }
      ],
      "source": [
        "#installing pyspark\n",
        "pip install pyspark"
      ],
      "id": "JQ2y1DaF8kA8"
    },
    {
      "cell_type": "code",
      "execution_count": 9,
      "metadata": {
        "colab": {
          "base_uri": "https://localhost:8080/",
          "height": 219
        },
        "id": "2e541841",
        "outputId": "e0855950-6001-43a3-bb0f-6db65fa8ae79"
      },
      "outputs": [
        {
          "output_type": "execute_result",
          "data": {
            "text/plain": [
              "<pyspark.sql.session.SparkSession at 0x7f0df8354370>"
            ],
            "text/html": [
              "\n",
              "            <div>\n",
              "                <p><b>SparkSession - in-memory</b></p>\n",
              "                \n",
              "        <div>\n",
              "            <p><b>SparkContext</b></p>\n",
              "\n",
              "            <p><a href=\"http://758341038aa3:4040\">Spark UI</a></p>\n",
              "\n",
              "            <dl>\n",
              "              <dt>Version</dt>\n",
              "                <dd><code>v3.4.0</code></dd>\n",
              "              <dt>Master</dt>\n",
              "                <dd><code>local</code></dd>\n",
              "              <dt>AppName</dt>\n",
              "                <dd><code>MASTER_2</code></dd>\n",
              "            </dl>\n",
              "        </div>\n",
              "        \n",
              "            </div>\n",
              "        "
            ]
          },
          "metadata": {},
          "execution_count": 9
        }
      ],
      "source": [
        "#initializing the pyspark session\n",
        "\n",
        "from pyspark.sql import SparkSession\n",
        "import pyspark\n",
        "\n",
        "from pyspark.sql import SparkSession\n",
        "import pyspark\n",
        "conf = pyspark.SparkConf().setAppName(\"MASTER_2\").setMaster(\"local\")\n",
        "conf.set(\"spark.sql.caseSensitive\", \"true\")\n",
        "conf.set(\"spark.debug.maxToStringFields\", \"100\")\n",
        "spark = SparkSession.builder.config(conf=conf).appName('MASTER_2').getOrCreate()\n",
        "\n",
        "spark"
      ],
      "id": "2e541841"
    },
    {
      "cell_type": "code",
      "execution_count": 10,
      "metadata": {
        "colab": {
          "base_uri": "https://localhost:8080/"
        },
        "id": "4c18e76d",
        "outputId": "b9b8c5a8-5f3b-415c-806d-dcef9ff54b31"
      },
      "outputs": [
        {
          "output_type": "stream",
          "name": "stdout",
          "text": [
            "+---------------+----------+-----+-------+--------------------+-----------+--------------+---------------+--------------------+--------------------+--------------+--------+----+\n",
            "|_corrupt_record|      asin|image|overall|          reviewText| reviewTime|    reviewerID|   reviewerName|               style|             summary|unixReviewTime|verified|vote|\n",
            "+---------------+----------+-----+-------+--------------------+-----------+--------------+---------------+--------------------+--------------------+--------------+--------+----+\n",
            "|           null|0449819906| null|    5.0|I've read this bo...| 11 6, 2013|A3U4E9PIZ8OWH1| Shirley Curtis|{null, null, null...|   A  WONDERFUL BOOK|    1383696000|    true|   4|\n",
            "|           null|0449819906| null|    5.0|Nicely written di...|02 28, 2017|A3945D2TJ0PI86|       M. Smith|{null, null, null...|                Nice|    1488240000|    true|null|\n",
            "|           null|0449819906| null|    5.0|             love it|02 25, 2017|A2WZK72HLQ7SPT|Amazon Customer|{null, null, null...|          Five Stars|    1487980800|    true|null|\n",
            "|           null|0449819906| null|    5.0|Good additional k...|01 25, 2017|A1Q7YJ1NPE6E0W|      MargaretT|{null, null, null...|Good Reference in...|    1485302400|    true|null|\n",
            "|           null|0449819906| null|    5.0|A gazillion patte...|01 12, 2017|A2846L8Q507JC4|          Dulce|{null, null, null...|Extremely clear, ...|    1484179200|    true|null|\n",
            "|           null|0449819906| null|    2.0|Just ok. Read bet...| 01 6, 2017|A3V21ZT37Y242L| Sheila Fenchak|{null, null, null...|             Just ok|    1483660800|    true|null|\n",
            "|           null|0449819906| null|    5.0|The best knitting...|12 23, 2016| A1GJKG5OAQQ69|Kindle Customer|{null, null, null...|Thank you for the...|    1482451200|    true|null|\n",
            "|           null|0449819906| null|    5.0|This book is a mo...|11 29, 2016|A1IQJ7PGO9I4MI|            GPS|{null, null, null...|         Magnificent|    1480377600|    true|null|\n",
            "|           null|0449819906| null|    5.0|excellent variety...|11 11, 2016| AW3AYN77DSEA4|      Foxy lady|{null, null, null...|          Five Stars|    1478822400|    true|null|\n",
            "|           null|0449819906| null|    5.0|Another winner M....|09 30, 2016|A3AJK82I35MLKA|Kindle Customer|{null, null, null...|         A must have|    1475193600|    true|null|\n",
            "+---------------+----------+-----+-------+--------------------+-----------+--------------+---------------+--------------------+--------------------+--------------+--------+----+\n",
            "only showing top 10 rows\n",
            "\n"
          ]
        }
      ],
      "source": [
        "#importing dataset into df \n",
        "df = spark.read.json(\"/content/Arts_Crafts_and_Sewing.json\")\n",
        "df.show(10)"
      ],
      "id": "4c18e76d"
    },
    {
      "cell_type": "code",
      "execution_count": 11,
      "metadata": {
        "id": "9fe0b4ee",
        "colab": {
          "base_uri": "https://localhost:8080/"
        },
        "outputId": "9c0bdc29-d43f-4ae8-bcf0-44f56fd3a8da"
      },
      "outputs": [
        {
          "output_type": "stream",
          "name": "stdout",
          "text": [
            "root\n",
            " |-- _corrupt_record: string (nullable = true)\n",
            " |-- asin: string (nullable = true)\n",
            " |-- image: array (nullable = true)\n",
            " |    |-- element: string (containsNull = true)\n",
            " |-- overall: double (nullable = true)\n",
            " |-- reviewText: string (nullable = true)\n",
            " |-- reviewTime: string (nullable = true)\n",
            " |-- reviewerID: string (nullable = true)\n",
            " |-- reviewerName: string (nullable = true)\n",
            " |-- style: struct (nullable = true)\n",
            " |    |-- Color Name:: string (nullable = true)\n",
            " |    |-- Color:: string (nullable = true)\n",
            " |    |-- Design:: string (nullable = true)\n",
            " |    |-- Display Height:: string (nullable = true)\n",
            " |    |-- Edition:: string (nullable = true)\n",
            " |    |-- Format:: string (nullable = true)\n",
            " |    |-- Item Display Length:: string (nullable = true)\n",
            " |    |-- Item Package Quantity:: string (nullable = true)\n",
            " |    |-- Length:: string (nullable = true)\n",
            " |    |-- Material Type:: string (nullable = true)\n",
            " |    |-- Material:: string (nullable = true)\n",
            " |    |-- Metal Type:: string (nullable = true)\n",
            " |    |-- Package Quantity:: string (nullable = true)\n",
            " |    |-- Package Type:: string (nullable = true)\n",
            " |    |-- Pattern:: string (nullable = true)\n",
            " |    |-- Product Packaging:: string (nullable = true)\n",
            " |    |-- Size Name:: string (nullable = true)\n",
            " |    |-- Size:: string (nullable = true)\n",
            " |    |-- Style Name:: string (nullable = true)\n",
            " |    |-- Style:: string (nullable = true)\n",
            " |    |-- style name:: string (nullable = true)\n",
            " |-- summary: string (nullable = true)\n",
            " |-- unixReviewTime: long (nullable = true)\n",
            " |-- verified: boolean (nullable = true)\n",
            " |-- vote: string (nullable = true)\n",
            "\n"
          ]
        }
      ],
      "source": [
        "#printing structure of the dataset\n",
        "\n",
        "df.printSchema()"
      ],
      "id": "9fe0b4ee"
    },
    {
      "cell_type": "code",
      "source": [
        "#printing number of rows in the dataset\n",
        "\n",
        "df.count()"
      ],
      "metadata": {
        "id": "yv6L9Qw0fnXY",
        "colab": {
          "base_uri": "https://localhost:8080/"
        },
        "outputId": "6fa3e1a7-d491-45f3-8168-456413616532"
      },
      "id": "yv6L9Qw0fnXY",
      "execution_count": 16,
      "outputs": [
        {
          "output_type": "execute_result",
          "data": {
            "text/plain": [
              "332332"
            ]
          },
          "metadata": {},
          "execution_count": 16
        }
      ]
    },
    {
      "cell_type": "code",
      "source": [
        "#printing number of columns in the dataset\n",
        "\n",
        "len(df.columns)"
      ],
      "metadata": {
        "id": "ZB_Tzm3Bj5WH",
        "colab": {
          "base_uri": "https://localhost:8080/"
        },
        "outputId": "d6a40e13-ff05-4503-d6c6-d00c3445e713"
      },
      "id": "ZB_Tzm3Bj5WH",
      "execution_count": 14,
      "outputs": [
        {
          "output_type": "execute_result",
          "data": {
            "text/plain": [
              "13"
            ]
          },
          "metadata": {},
          "execution_count": 14
        }
      ]
    },
    {
      "cell_type": "code",
      "source": [
        "#printing last 10 rows of database\n",
        "\n",
        "df.tail(10)"
      ],
      "metadata": {
        "id": "3asrj8J6kbil",
        "colab": {
          "base_uri": "https://localhost:8080/"
        },
        "outputId": "0656cc65-9798-4ac0-f8b1-17317ae78949"
      },
      "id": "3asrj8J6kbil",
      "execution_count": null,
      "outputs": [
        {
          "output_type": "execute_result",
          "data": {
            "text/plain": [
              "[Row(asin='B0001DT3ZY', image=None, overall=5.0, reviewText='I just needed a hole puncher.  I am handicapped so I have very little hand strength.  The sure-grip handles were a god-send.  I also love the fact that there is a catch tray, built right into the punch, that prevents the little, paper circles that are cut out from flying everywhere until YOU empty them.  Simple and effective; just great.', reviewTime='11 25, 2011', reviewerID='A1RTR8KE4HU1YN', reviewerName='Lillehammer', style=Row(Color Name:=None, Color:=None, Design:=None, Format:=None, Package Quantity:=None, Package Type:=None, Size Name:=None, Size:=' Circle', Style Name:=None, Style:=None), summary='Great hole puncher', unixReviewTime=1322179200, verified=True, vote='5'),\n",
              " Row(asin='B0001DT3ZY', image=None, overall=4.0, reviewText=\"My job requires me to punch receipts, several hundred each day. The Fiskar stands up very well. Plus they have a good warranty.\\nI usually don't buy products made in China, but this is a good tool. I am unable to find a similar one made in USA.\", reviewTime='10 13, 2011', reviewerID='AWCR71O9RCZWG', reviewerName='G. Ray', style=Row(Color Name:=None, Color:=None, Design:=None, Format:=None, Package Quantity:=None, Package Type:=None, Size Name:=None, Size:=' Heart', Style Name:=None, Style:=None), summary='Fiskars Paper Punch', unixReviewTime=1318464000, verified=True, vote='5'),\n",
              " Row(asin='B0001DT3ZY', image=None, overall=5.0, reviewText='i got this punch for my coffee shop for our buy 10, get 1 free punch cards. it works well, is sturdy and gets the job done on business card thickness.', reviewTime='09 16, 2011', reviewerID='A1XZP6VNRUN0K1', reviewerName='R. Andersson', style=Row(Color Name:=None, Color:=None, Design:=None, Format:=None, Package Quantity:=None, Package Type:=None, Size Name:=None, Size:=' Heart', Style Name:=None, Style:=None), summary='works well, sturdy', unixReviewTime=1316131200, verified=True, vote='17'),\n",
              " Row(asin='B0001DT3ZY', image=None, overall=4.0, reviewText=\"This unit works great! The size is perfect for my needs (about the size of a pencil eraser.) Unlike those cheap whole punchers, you won't have to worry about the little pieces of paper falling out and getting everywhere.\\n\\nThe only reason it doesn't get five stars is because I have another Fiskars punch that has a much nicer grip on it that this one. I was expecting just a little more.\", reviewTime='09 13, 2011', reviewerID='A1Y7HG4EEGQUOZ', reviewerName='Adam', style=Row(Color Name:=None, Color:=None, Design:=None, Format:=None, Package Quantity:=None, Package Type:=None, Size Name:=None, Size:=' Circle', Style Name:=None, Style:=None), summary='Great product!', unixReviewTime=1315872000, verified=True, vote='15'),\n",
              " Row(asin='B0001DT3ZY', image=None, overall=3.0, reviewText='It is great but I need a hole punch with the same shape in the other direction. Do you have one?', reviewTime='07 11, 2011', reviewerID='A1JLOS5WU2H6RA', reviewerName='AMB', style=Row(Color Name:=None, Color:=None, Design:=None, Format:=None, Package Quantity:=None, Package Type:=None, Size Name:=None, Size:=' Rectangle', Style Name:=None, Style:=None), summary='Hole Punch', unixReviewTime=1310342400, verified=True, vote=None),\n",
              " Row(asin='B0001DT3ZY', image=None, overall=1.0, reviewText='I bought this because it was listed as a badge punch. It is not, it is too small. I would return it but the postage and effort would not be worth it. It shall forever sit and collect dust.', reviewTime='05 12, 2011', reviewerID='A666TGCK5ILIO', reviewerName='Business Customer - Jason Pyeron', style=Row(Color Name:=None, Color:=None, Design:=None, Format:=None, Package Quantity:=None, Package Type:=None, Size Name:=None, Size:=' Rectangle', Style Name:=None, Style:=None), summary='Product was not indexed properly in the store', unixReviewTime=1305158400, verified=False, vote='13'),\n",
              " Row(asin='B0001DUJAW', image=None, overall=4.0, reviewText=\"Seems to be good.  This is 12 ounces.  My fianc&eacute; got me one from the store..it was only 8 ounces.  Maybe that's the difference in the price talked about in allot of the reviews?  Haven't used it yet.. Saving for Christmas crafts, but it is Krylon.  It's a good name, though.**  I finally used it.  It sprayed from the can good.  I thought it was a true burgandy.  Would recommend.\", reviewTime='09 7, 2016', reviewerID='A2TQE8NBQ6DZ9Q', reviewerName='Bonnie', style=Row(Color Name:=None, Color:=' Burgundy', Design:=None, Format:=None, Package Quantity:=None, Package Type:=None, Size Name:=None, Size:=None, Style Name:=None, Style:=None), summary='12 ounce can of spray paint', unixReviewTime=1473206400, verified=True, vote=None),\n",
              " Row(asin='B0001DUJAW', image=None, overall=4.0, reviewText='Good paint, heavy fumes eve after drying, which it did quickly, a good buy for the price.', reviewTime='09 4, 2016', reviewerID='A1ZANCVC0KUOUY', reviewerName='Kindle Customer Eileen P. Landreth', style=Row(Color Name:=None, Color:=' Flat White', Design:=None, Format:=None, Package Quantity:=None, Package Type:=None, Size Name:=None, Size:=None, Style Name:=None, Style:=None), summary='Spray paint that covers well, no dribbling', unixReviewTime=1472947200, verified=True, vote=None),\n",
              " Row(asin='B0001DUJAW', image=None, overall=5.0, reviewText='Color is as expected.', reviewTime='08 31, 2016', reviewerID='A2YFMQSN8R00AD', reviewerName='Jonathan H. Shaw', style=Row(Color Name:=None, Color:=' Banner Red', Design:=None, Format:=None, Package Quantity:=None, Package Type:=None, Size Name:=None, Size:=None, Style Name:=None, Style:=None), summary='Five Stars', unixReviewTime=1472601600, verified=True, vote=None),\n",
              " Row(asin='B0001DUJAW', image=None, overall=5.0, reviewText='Bought this to paint vases for a Tiffany bridal shower.  It worked perfect!', reviewTime='08 30, 2016', reviewerID='AA1068VT7BVMR', reviewerName='Amazon Customer', style=Row(Color Name:=None, Color:=' Blue Ocean Breeze', Design:=None, Format:=None, Package Quantity:=None, Package Type:=None, Size Name:=None, Size:=None, Style Name:=None, Style:=None), summary='Tiffany blue!!', unixReviewTime=1472515200, verified=True, vote=None)]"
            ]
          },
          "metadata": {},
          "execution_count": 15
        }
      ]
    },
    {
      "cell_type": "code",
      "execution_count": 12,
      "metadata": {
        "id": "66f2f194"
      },
      "outputs": [],
      "source": [
        "#changing name of the reviewerID, asin, overall, and reviewText columns\n",
        "\n",
        "df = df.withColumnRenamed(\"reviewerID\",\"userID\").withColumnRenamed(\"asin\",\"itemID\").withColumnRenamed(\"overall\",\"rating\").withColumnRenamed(\"reviewText\",\"review\").withColumnRenamed(\"summary\",\"review_summary\")"
      ],
      "id": "66f2f194"
    },
    {
      "cell_type": "code",
      "source": [
        "#printing the summary of the database; number of rows, mean, max, min values of all columns data\n",
        "\n",
        "df.summary().show()"
      ],
      "metadata": {
        "id": "PEHTxp-DmjMA",
        "colab": {
          "base_uri": "https://localhost:8080/"
        },
        "outputId": "5d682559-69e8-41c4-c113-152b8988c2de"
      },
      "id": "PEHTxp-DmjMA",
      "execution_count": 13,
      "outputs": [
        {
          "output_type": "stream",
          "name": "stdout",
          "text": [
            "+-------+--------------------+--------------------+------------------+--------------------+----------+--------------------+------------+--------------------+--------------------+-----------------+\n",
            "|summary|     _corrupt_record|              itemID|            rating|              review|reviewTime|              userID|reviewerName|      review_summary|      unixReviewTime|             vote|\n",
            "+-------+--------------------+--------------------+------------------+--------------------+----------+--------------------+------------+--------------------+--------------------+-----------------+\n",
            "|  count|                   1|              332331|            332331|              332138|    332331|              332331|      332308|              332257|              332331|            52143|\n",
            "|   mean|                null|2.9880354356698585E9| 4.340368488043547|                 1.0|      null|                null|         NaN|                15.0|1.4306249496556144E9|9.007480148835782|\n",
            "| stddev|                null|3.1500156529446254E9|1.1855815121813358|                 0.0|      null|                null|         NaN|   34.39269025326665| 5.766326608362139E7|23.02067121015519|\n",
            "|    min|{\"overall\": 4.0, ...|          0449819906|               1.0|\\nCan't say enoug...|01 1, 2003|A00181966XZUX7KEGYLH|            |                    |           893462400|            1,004|\n",
            "|    25%|                null|        9.88174979E8|               4.0|                 1.0|      null|                null|       782.0|                 1.0|          1399593600|              2.0|\n",
            "|    50%|                null|       1.574894218E9|               5.0|                 1.0|      null|                null|      8921.0|                 3.0|          1436400000|              4.0|\n",
            "|    75%|                null|       1.937193233E9|               5.0|                 1.0|      null|                null|         NaN|                 5.0|          1471910400|              8.0|\n",
            "|    max|{\"overall\": 4.0, ...|          B00181B8S8|               5.0|~~~good,,,,, but ...|12 9, 2017|       AZZZWDTD5URZ8|         ~~~|~~so many sweater...|          1526601600|               99|\n",
            "+-------+--------------------+--------------------+------------------+--------------------+----------+--------------------+------------+--------------------+--------------------+-----------------+\n",
            "\n"
          ]
        }
      ]
    },
    {
      "cell_type": "code",
      "execution_count": 14,
      "metadata": {
        "id": "3654fe31"
      },
      "outputs": [],
      "source": [
        "#creating new dataset of only itemID, userID, rating, review, review_summary columns from old dataset\n",
        "\n",
        "df_new = df['itemID','userID','rating','review','review_summary']"
      ],
      "id": "3654fe31"
    },
    {
      "cell_type": "code",
      "execution_count": 15,
      "metadata": {
        "id": "984a095e",
        "colab": {
          "base_uri": "https://localhost:8080/"
        },
        "outputId": "78e5a318-166b-4eca-8589-cc89a96f2e5d"
      },
      "outputs": [
        {
          "output_type": "stream",
          "name": "stdout",
          "text": [
            "+----------+--------------+------+--------------------+--------------------+\n",
            "|    itemID|        userID|rating|              review|      review_summary|\n",
            "+----------+--------------+------+--------------------+--------------------+\n",
            "|0449819906|A3U4E9PIZ8OWH1|   5.0|I've read this bo...|   A  WONDERFUL BOOK|\n",
            "|0449819906|A3945D2TJ0PI86|   5.0|Nicely written di...|                Nice|\n",
            "|0449819906|A2WZK72HLQ7SPT|   5.0|             love it|          Five Stars|\n",
            "|0449819906|A1Q7YJ1NPE6E0W|   5.0|Good additional k...|Good Reference in...|\n",
            "|0449819906|A2846L8Q507JC4|   5.0|A gazillion patte...|Extremely clear, ...|\n",
            "|0449819906|A3V21ZT37Y242L|   2.0|Just ok. Read bet...|             Just ok|\n",
            "|0449819906| A1GJKG5OAQQ69|   5.0|The best knitting...|Thank you for the...|\n",
            "|0449819906|A1IQJ7PGO9I4MI|   5.0|This book is a mo...|         Magnificent|\n",
            "|0449819906| AW3AYN77DSEA4|   5.0|excellent variety...|          Five Stars|\n",
            "|0449819906|A3AJK82I35MLKA|   5.0|Another winner M....|         A must have|\n",
            "+----------+--------------+------+--------------------+--------------------+\n",
            "only showing top 10 rows\n",
            "\n"
          ]
        }
      ],
      "source": [
        "#printing 10 rows of new dataset\n",
        "\n",
        "df_new.show(10)"
      ],
      "id": "984a095e"
    },
    {
      "cell_type": "code",
      "source": [
        "#printing number of rows in new dataset\n",
        "\n",
        "df_new.count()"
      ],
      "metadata": {
        "id": "9iPuwwSbwOtL",
        "colab": {
          "base_uri": "https://localhost:8080/"
        },
        "outputId": "00485a28-165f-4238-f27d-bf91c1711ae1"
      },
      "id": "9iPuwwSbwOtL",
      "execution_count": 17,
      "outputs": [
        {
          "output_type": "execute_result",
          "data": {
            "text/plain": [
              "332332"
            ]
          },
          "metadata": {},
          "execution_count": 17
        }
      ]
    },
    {
      "cell_type": "code",
      "execution_count": 20,
      "metadata": {
        "colab": {
          "base_uri": "https://localhost:8080/",
          "height": 206
        },
        "id": "f33ea817",
        "outputId": "e79b35cf-8578-426e-9df0-d3776d468f6d"
      },
      "outputs": [
        {
          "output_type": "execute_result",
          "data": {
            "text/plain": [
              "  summary                itemID                userID              rating  \\\n",
              "0   count                332331                332331              332331   \n",
              "1    mean  2.9880354356698585E9                  None   4.340368488043547   \n",
              "2  stddev  3.1500156529446254E9                  None  1.1855815121813358   \n",
              "3     min            0449819906  A00181966XZUX7KEGYLH                 1.0   \n",
              "4     max            B00181B8S8         AZZZWDTD5URZ8                 5.0   \n",
              "\n",
              "                                              review  \\\n",
              "0                                             332138   \n",
              "1                                                1.0   \n",
              "2                                                0.0   \n",
              "3  \\nCan't say enough good things about this mach...   \n",
              "4               ~~~good,,,,, but not i have imagined   \n",
              "\n",
              "                                      review_summary  \n",
              "0                                             332257  \n",
              "1                                               15.0  \n",
              "2                                  34.39269025326665  \n",
              "3                                                     \n",
              "4  ~~so many sweaters saved thanks to the Fuzz Wi...  "
            ],
            "text/html": [
              "\n",
              "  <div id=\"df-642309f2-9703-41dc-968d-ac4458090106\">\n",
              "    <div class=\"colab-df-container\">\n",
              "      <div>\n",
              "<style scoped>\n",
              "    .dataframe tbody tr th:only-of-type {\n",
              "        vertical-align: middle;\n",
              "    }\n",
              "\n",
              "    .dataframe tbody tr th {\n",
              "        vertical-align: top;\n",
              "    }\n",
              "\n",
              "    .dataframe thead th {\n",
              "        text-align: right;\n",
              "    }\n",
              "</style>\n",
              "<table border=\"1\" class=\"dataframe\">\n",
              "  <thead>\n",
              "    <tr style=\"text-align: right;\">\n",
              "      <th></th>\n",
              "      <th>summary</th>\n",
              "      <th>itemID</th>\n",
              "      <th>userID</th>\n",
              "      <th>rating</th>\n",
              "      <th>review</th>\n",
              "      <th>review_summary</th>\n",
              "    </tr>\n",
              "  </thead>\n",
              "  <tbody>\n",
              "    <tr>\n",
              "      <th>0</th>\n",
              "      <td>count</td>\n",
              "      <td>332331</td>\n",
              "      <td>332331</td>\n",
              "      <td>332331</td>\n",
              "      <td>332138</td>\n",
              "      <td>332257</td>\n",
              "    </tr>\n",
              "    <tr>\n",
              "      <th>1</th>\n",
              "      <td>mean</td>\n",
              "      <td>2.9880354356698585E9</td>\n",
              "      <td>None</td>\n",
              "      <td>4.340368488043547</td>\n",
              "      <td>1.0</td>\n",
              "      <td>15.0</td>\n",
              "    </tr>\n",
              "    <tr>\n",
              "      <th>2</th>\n",
              "      <td>stddev</td>\n",
              "      <td>3.1500156529446254E9</td>\n",
              "      <td>None</td>\n",
              "      <td>1.1855815121813358</td>\n",
              "      <td>0.0</td>\n",
              "      <td>34.39269025326665</td>\n",
              "    </tr>\n",
              "    <tr>\n",
              "      <th>3</th>\n",
              "      <td>min</td>\n",
              "      <td>0449819906</td>\n",
              "      <td>A00181966XZUX7KEGYLH</td>\n",
              "      <td>1.0</td>\n",
              "      <td>\\nCan't say enough good things about this mach...</td>\n",
              "      <td></td>\n",
              "    </tr>\n",
              "    <tr>\n",
              "      <th>4</th>\n",
              "      <td>max</td>\n",
              "      <td>B00181B8S8</td>\n",
              "      <td>AZZZWDTD5URZ8</td>\n",
              "      <td>5.0</td>\n",
              "      <td>~~~good,,,,, but not i have imagined</td>\n",
              "      <td>~~so many sweaters saved thanks to the Fuzz Wi...</td>\n",
              "    </tr>\n",
              "  </tbody>\n",
              "</table>\n",
              "</div>\n",
              "      <button class=\"colab-df-convert\" onclick=\"convertToInteractive('df-642309f2-9703-41dc-968d-ac4458090106')\"\n",
              "              title=\"Convert this dataframe to an interactive table.\"\n",
              "              style=\"display:none;\">\n",
              "        \n",
              "  <svg xmlns=\"http://www.w3.org/2000/svg\" height=\"24px\"viewBox=\"0 0 24 24\"\n",
              "       width=\"24px\">\n",
              "    <path d=\"M0 0h24v24H0V0z\" fill=\"none\"/>\n",
              "    <path d=\"M18.56 5.44l.94 2.06.94-2.06 2.06-.94-2.06-.94-.94-2.06-.94 2.06-2.06.94zm-11 1L8.5 8.5l.94-2.06 2.06-.94-2.06-.94L8.5 2.5l-.94 2.06-2.06.94zm10 10l.94 2.06.94-2.06 2.06-.94-2.06-.94-.94-2.06-.94 2.06-2.06.94z\"/><path d=\"M17.41 7.96l-1.37-1.37c-.4-.4-.92-.59-1.43-.59-.52 0-1.04.2-1.43.59L10.3 9.45l-7.72 7.72c-.78.78-.78 2.05 0 2.83L4 21.41c.39.39.9.59 1.41.59.51 0 1.02-.2 1.41-.59l7.78-7.78 2.81-2.81c.8-.78.8-2.07 0-2.86zM5.41 20L4 18.59l7.72-7.72 1.47 1.35L5.41 20z\"/>\n",
              "  </svg>\n",
              "      </button>\n",
              "      \n",
              "  <style>\n",
              "    .colab-df-container {\n",
              "      display:flex;\n",
              "      flex-wrap:wrap;\n",
              "      gap: 12px;\n",
              "    }\n",
              "\n",
              "    .colab-df-convert {\n",
              "      background-color: #E8F0FE;\n",
              "      border: none;\n",
              "      border-radius: 50%;\n",
              "      cursor: pointer;\n",
              "      display: none;\n",
              "      fill: #1967D2;\n",
              "      height: 32px;\n",
              "      padding: 0 0 0 0;\n",
              "      width: 32px;\n",
              "    }\n",
              "\n",
              "    .colab-df-convert:hover {\n",
              "      background-color: #E2EBFA;\n",
              "      box-shadow: 0px 1px 2px rgba(60, 64, 67, 0.3), 0px 1px 3px 1px rgba(60, 64, 67, 0.15);\n",
              "      fill: #174EA6;\n",
              "    }\n",
              "\n",
              "    [theme=dark] .colab-df-convert {\n",
              "      background-color: #3B4455;\n",
              "      fill: #D2E3FC;\n",
              "    }\n",
              "\n",
              "    [theme=dark] .colab-df-convert:hover {\n",
              "      background-color: #434B5C;\n",
              "      box-shadow: 0px 1px 3px 1px rgba(0, 0, 0, 0.15);\n",
              "      filter: drop-shadow(0px 1px 2px rgba(0, 0, 0, 0.3));\n",
              "      fill: #FFFFFF;\n",
              "    }\n",
              "  </style>\n",
              "\n",
              "      <script>\n",
              "        const buttonEl =\n",
              "          document.querySelector('#df-642309f2-9703-41dc-968d-ac4458090106 button.colab-df-convert');\n",
              "        buttonEl.style.display =\n",
              "          google.colab.kernel.accessAllowed ? 'block' : 'none';\n",
              "\n",
              "        async function convertToInteractive(key) {\n",
              "          const element = document.querySelector('#df-642309f2-9703-41dc-968d-ac4458090106');\n",
              "          const dataTable =\n",
              "            await google.colab.kernel.invokeFunction('convertToInteractive',\n",
              "                                                     [key], {});\n",
              "          if (!dataTable) return;\n",
              "\n",
              "          const docLinkHtml = 'Like what you see? Visit the ' +\n",
              "            '<a target=\"_blank\" href=https://colab.research.google.com/notebooks/data_table.ipynb>data table notebook</a>'\n",
              "            + ' to learn more about interactive tables.';\n",
              "          element.innerHTML = '';\n",
              "          dataTable['output_type'] = 'display_data';\n",
              "          await google.colab.output.renderOutput(dataTable, element);\n",
              "          const docLink = document.createElement('div');\n",
              "          docLink.innerHTML = docLinkHtml;\n",
              "          element.appendChild(docLink);\n",
              "        }\n",
              "      </script>\n",
              "    </div>\n",
              "  </div>\n",
              "  "
            ]
          },
          "metadata": {},
          "execution_count": 20
        }
      ],
      "source": [
        "#printing summary of new dataset; number of rows, mean, min, max values of each columns\n",
        "\n",
        "df_new.describe().toPandas() "
      ],
      "id": "f33ea817"
    },
    {
      "cell_type": "code",
      "execution_count": 22,
      "metadata": {
        "colab": {
          "base_uri": "https://localhost:8080/"
        },
        "id": "0dca3447",
        "outputId": "47474a49-b90a-4f80-e922-5532684b1401"
      },
      "outputs": [
        {
          "output_type": "stream",
          "name": "stdout",
          "text": [
            "+------+------+------+------+--------------+\n",
            "|itemID|userID|rating|review|review_summary|\n",
            "+------+------+------+------+--------------+\n",
            "|     1|     1|     1|   194|            75|\n",
            "+------+------+------+------+--------------+\n",
            "\n"
          ]
        }
      ],
      "source": [
        "#printing number of null values occurrences in each column in new dataset\n",
        "\n",
        "from pyspark.sql.functions import isnan, when, count, col\n",
        "\n",
        "df_new.select([count(when(isnan(c) | col(c).isNull(), c)).alias(c) for c in df_new.columns]).show()"
      ],
      "id": "0dca3447"
    },
    {
      "cell_type": "code",
      "execution_count": 23,
      "metadata": {
        "colab": {
          "base_uri": "https://localhost:8080/"
        },
        "id": "cd7d42b5",
        "outputId": "fd06125f-b943-4d80-b89b-76479f50b24c"
      },
      "outputs": [
        {
          "output_type": "stream",
          "name": "stdout",
          "text": [
            "+------+------+------+------+--------------+\n",
            "|itemID|userID|rating|review|review_summary|\n",
            "+------+------+------+------+--------------+\n",
            "|  null|  null|  null|  null|          null|\n",
            "+------+------+------+------+--------------+\n",
            "\n"
          ]
        }
      ],
      "source": [
        "#finding all data from dataset where the userID is null\n",
        "\n",
        "df_new.filter(df_new.userID.isNull()).show()"
      ],
      "id": "cd7d42b5"
    },
    {
      "cell_type": "code",
      "execution_count": 24,
      "metadata": {
        "colab": {
          "base_uri": "https://localhost:8080/"
        },
        "id": "8b568c8e",
        "outputId": "1b36f33f-7246-4641-b808-fe16a21c659d"
      },
      "outputs": [
        {
          "output_type": "stream",
          "name": "stdout",
          "text": [
            "+------+------+------+------+--------------+\n",
            "|itemID|userID|rating|review|review_summary|\n",
            "+------+------+------+------+--------------+\n",
            "|  null|  null|  null|  null|          null|\n",
            "+------+------+------+------+--------------+\n",
            "\n"
          ]
        }
      ],
      "source": [
        "#finding all data from dataset where the itemID is null\n",
        "\n",
        "df_new.filter(df_new.itemID.isNull()).show()"
      ],
      "id": "8b568c8e"
    },
    {
      "cell_type": "code",
      "execution_count": 25,
      "metadata": {
        "colab": {
          "base_uri": "https://localhost:8080/"
        },
        "id": "135013e1",
        "outputId": "7ca2af75-53a1-4e3d-d10b-5089e2d7656c"
      },
      "outputs": [
        {
          "output_type": "stream",
          "name": "stdout",
          "text": [
            "+------+------+------+------+--------------+\n",
            "|itemID|userID|rating|review|review_summary|\n",
            "+------+------+------+------+--------------+\n",
            "+------+------+------+------+--------------+\n",
            "\n"
          ]
        }
      ],
      "source": [
        "#finding all data from dataset where the rating is null\n",
        "\n",
        "df_new.filter(df_new.rating.isNull()).show()"
      ],
      "id": "135013e1"
    },
    {
      "cell_type": "code",
      "execution_count": 26,
      "metadata": {
        "colab": {
          "base_uri": "https://localhost:8080/"
        },
        "id": "f1a70a70",
        "outputId": "47eadf89-36d0-40cf-8cfa-7c58859aa8e8"
      },
      "outputs": [
        {
          "output_type": "stream",
          "name": "stdout",
          "text": [
            "+----------+--------------+------+------+--------------------+\n",
            "|    itemID|        userID|rating|review|      review_summary|\n",
            "+----------+--------------+------+------+--------------------+\n",
            "|B00004THXH|A2OPTG6L4Z8UJC|   5.0|  null|          Five Stars|\n",
            "|B00004Z2U8|A10QMQ0WC54KLU|   5.0|  null|          Five Stars|\n",
            "|B00004Z2UD| A9BK461172UHX|   4.0|  null|          Four Stars|\n",
            "|B00006IAHD|A1ROVL4AWYM9D6|   5.0|  null|                null|\n",
            "|B00006IDOR| AT95J6Z1N9VW1|   5.0|  null|          Five Stars|\n",
            "|B00006IE1Q|A23UV1HWEOGT0E|   5.0|  null|          Five Stars|\n",
            "|B00006IFAG| AVBZUGY2J2T91|   5.0|  null|Very fun to draw ...|\n",
            "|B0001DUD9O| A84ST4WZR91VW|   5.0|  null|          Five Stars|\n",
            "|B0001DS5MQ|A1W9IBVCZBDMBW|   5.0|  null|          Five Stars|\n",
            "|B0002Q8ZIG|A35UGHZCYS5WX6|   5.0|  null|          Five Stars|\n",
            "|B0006OKGYU|A2FEOVTKJ78Y4D|   5.0|  null|          Five Stars|\n",
            "|B0006VRX30|A2LK03RTCCDQR2|   5.0|  null|          Five Stars|\n",
            "|B0007D63NI|A2ES10RRB7I6VV|   5.0|  null|          Five Stars|\n",
            "|B00083OZQY|A3R2JJ6ZT0SOVU|   5.0|  null|          Five Stars|\n",
            "|B0008G2PD6|A3K8OB1DUHCOEH|   5.0|  null|\"Itsa sift!\" ~Mr....|\n",
            "|B000980K7G|A18N8YSIJFE6BJ|   1.0|  null|           Don't Buy|\n",
            "|B000980L02|A21RC69QLRM68D|   5.0|  null|          Five Stars|\n",
            "|B000980L02|A21RC69QLRM68D|   5.0|  null|          Five Stars|\n",
            "|B000980L02|A21RC69QLRM68D|   5.0|  null|          Five Stars|\n",
            "|B000980L02| AE6FEIZM7Y51Z|   5.0|  null|          Five Stars|\n",
            "+----------+--------------+------+------+--------------------+\n",
            "only showing top 20 rows\n",
            "\n"
          ]
        }
      ],
      "source": [
        "#finding all data from dataset where the review is null\n",
        "\n",
        "df_new.filter(df_new.review.isNull()).show()"
      ],
      "id": "f1a70a70"
    },
    {
      "cell_type": "code",
      "execution_count": 18,
      "metadata": {
        "colab": {
          "base_uri": "https://localhost:8080/"
        },
        "id": "81a1e277",
        "outputId": "e9c601c6-8bb7-4a6e-956b-2dc8ed1992b0"
      },
      "outputs": [
        {
          "output_type": "stream",
          "name": "stdout",
          "text": [
            "+----------+--------------+------+--------------------+--------------+\n",
            "|    itemID|        userID|rating|              review|review_summary|\n",
            "+----------+--------------+------+--------------------+--------------+\n",
            "|B00004THXH|A2IHAQY2JV6WR7|   5.0|Just what I was l...|          null|\n",
            "|B00006IAHD|A1ROVL4AWYM9D6|   5.0|                null|          null|\n",
            "|B00006IAGW| AV6UUM16WE8RE|   5.0|Perfect! Used the...|          null|\n",
            "|B00006IC2T|A2HWP7F43XLNG7|   5.0|  Works as intended.|          null|\n",
            "|B00006IDY9|A2QCPLBHH6GF9T|   5.0|Paper worked grea...|          null|\n",
            "|B00006IFGJ|A13KDZG6350VST|   5.0|It arrived 3 days...|          null|\n",
            "|B00024JRK8| A729CKUWFLBHW|   1.0|It actually puts ...|          null|\n",
            "|B0007D63NI|A1H9AHIC7W1PPZ|   4.0|Great kit. Really...|          null|\n",
            "|B0007OEE9M| ALUEP9UFXDQZF|   5.0|Nice set. The col...|          null|\n",
            "|B0007ZHGWI|A297CKO2XCKB7L|   5.0|This product is r...|          null|\n",
            "|B0009E34IW| AMPB503RB3P37|   5.0|Best embroidery t...|          null|\n",
            "|B000B7Q9FM|A24ZWV098N59GI|   5.0|  Cute and well made|          null|\n",
            "|B000BGSZFU|A1W9IBVCZBDMBW|   5.0|Gorgeous amazing ...|          null|\n",
            "|B000BQKGR0|A1A3YAI2H1LB7N|   5.0|                null|          null|\n",
            "|B000BQKGR0|A2NV09Q8UMQBRI|   5.0|         Works great|          null|\n",
            "|B000BQS3UW|A2HBIQ3BLUER88|   4.0|Quality airbrush....|          null|\n",
            "|B000BVN18Q| A2VRWEM9DJ84M|   5.0|    They really work|          null|\n",
            "|B000BY4Q5K|A3FMRC9C5YV5GT|   5.0|works up well, I ...|          null|\n",
            "|B000C6RHBW|A2AOH2W1X5CXMD|   5.0|Product came swif...|          null|\n",
            "|B000COQPSU|A3W4TTSMTOTXH2|   5.0|Beautiful can't w...|          null|\n",
            "+----------+--------------+------+--------------------+--------------+\n",
            "only showing top 20 rows\n",
            "\n"
          ]
        }
      ],
      "source": [
        "#finding all data from dataset where the review_summary is null\n",
        "\n",
        "df_new.filter(df_new.review_summary.isNull()).show()"
      ],
      "id": "81a1e277"
    },
    {
      "cell_type": "code",
      "execution_count": 19,
      "metadata": {
        "colab": {
          "base_uri": "https://localhost:8080/"
        },
        "id": "952613ef",
        "outputId": "bbd39395-8bdf-4ce8-ad25-25c7a14517ce"
      },
      "outputs": [
        {
          "output_type": "stream",
          "name": "stdout",
          "text": [
            "+------+------+\n",
            "|rating| count|\n",
            "+------+------+\n",
            "|   5.0|229165|\n",
            "|   4.0| 45026|\n",
            "|   3.0| 22525|\n",
            "|   1.0| 22295|\n",
            "|   2.0| 13320|\n",
            "|  null|     1|\n",
            "+------+------+\n",
            "\n"
          ]
        }
      ],
      "source": [
        "#grouping data from dataset by the rating column and ordering it in ascending order\n",
        "#we only have 5.0, 4.0, 3.0, 2.0, 1.0 and nan ratings\n",
        "\n",
        "df_col = df_new.groupBy('rating').count().orderBy('count', ascending=False)\n",
        "df_col.show(100)"
      ],
      "id": "952613ef"
    },
    {
      "cell_type": "code",
      "execution_count": 20,
      "metadata": {
        "colab": {
          "base_uri": "https://localhost:8080/",
          "height": 447
        },
        "id": "b8f2ef29",
        "outputId": "f6709b01-ff7e-4d21-b0fe-4b899de72571"
      },
      "outputs": [
        {
          "output_type": "execute_result",
          "data": {
            "text/plain": [
              "<Axes: ylabel='rating'>"
            ]
          },
          "metadata": {},
          "execution_count": 20
        },
        {
          "output_type": "display_data",
          "data": {
            "text/plain": [
              "<Figure size 640x480 with 1 Axes>"
            ],
            "image/png": "[encoded data removed]"
          },
          "metadata": {}
        }
      ],
      "source": [
        "#visualizing the data from previous task using plot bar\n",
        "\n",
        "import matplotlib.pyplot as plt\n",
        "import numpy as np\n",
        "\n",
        "pdf1=df_col.toPandas()\n",
        "pdf1.plot(kind='barh',x='rating',y='count')"
      ],
      "id": "b8f2ef29"
    },
    {
      "cell_type": "code",
      "execution_count": 21,
      "metadata": {
        "id": "d875ce8e"
      },
      "outputs": [],
      "source": [
        "#droping and deleting all values that are null in review_summary and review columns\n",
        "\n",
        "df_new = df_new.na.drop(subset=[\"review_summary\",\"review\"])"
      ],
      "id": "d875ce8e"
    },
    {
      "cell_type": "code",
      "execution_count": 22,
      "metadata": {
        "colab": {
          "base_uri": "https://localhost:8080/"
        },
        "id": "dc35c47e",
        "outputId": "95a9e93b-62e2-45b4-8b28-c40e3fd4c933"
      },
      "outputs": [
        {
          "output_type": "stream",
          "name": "stdout",
          "text": [
            "+------+------+------+------+--------------+\n",
            "|itemID|userID|rating|review|review_summary|\n",
            "+------+------+------+------+--------------+\n",
            "+------+------+------+------+--------------+\n",
            "\n"
          ]
        }
      ],
      "source": [
        "#printing all data that is null in the review_summary; we do not have any because we deleted them\n",
        "\n",
        "df_new.filter(df_new.review_summary.isNull()).show()"
      ],
      "id": "dc35c47e"
    },
    {
      "cell_type": "code",
      "execution_count": 23,
      "metadata": {
        "colab": {
          "base_uri": "https://localhost:8080/"
        },
        "id": "854980f4",
        "outputId": "4e166334-392b-4c25-8f4c-532c792976db"
      },
      "outputs": [
        {
          "output_type": "stream",
          "name": "stdout",
          "text": [
            "+------+------+------+------+--------------+\n",
            "|itemID|userID|rating|review|review_summary|\n",
            "+------+------+------+------+--------------+\n",
            "+------+------+------+------+--------------+\n",
            "\n"
          ]
        }
      ],
      "source": [
        "#printing all data that is null in the review; we do not have any because we deleted them\n",
        "\n",
        "df_new.filter(df_new.review.isNull()).show()"
      ],
      "id": "854980f4"
    },
    {
      "cell_type": "code",
      "execution_count": 24,
      "metadata": {
        "colab": {
          "base_uri": "https://localhost:8080/"
        },
        "id": "37707d56",
        "outputId": "dfc06e31-f295-437e-c87c-8ed9f58ba6a1"
      },
      "outputs": [
        {
          "output_type": "stream",
          "name": "stdout",
          "text": [
            "+------+------+\n",
            "|rating| count|\n",
            "+------+------+\n",
            "|   5.0|228952|\n",
            "|   4.0| 44995|\n",
            "|   3.0| 22519|\n",
            "|   2.0| 13319|\n",
            "|   1.0| 22284|\n",
            "+------+------+\n",
            "\n"
          ]
        }
      ],
      "source": [
        "#grouping data from dataset by the rating column and ordering it in ascending order\n",
        "#we only have 5.0, 4.0, 3.0, 2.0 and 1.0 ratings\n",
        "\n",
        "df_col1 = df_new.groupBy('rating').count().orderBy('rating', ascending=False)\n",
        "df_col1.show(100)"
      ],
      "id": "37707d56"
    },
    {
      "cell_type": "code",
      "source": [
        "#printing precentage of the rating from whole dataset\n",
        "\n",
        "print('precentage of the rating 5:', 228952/332069 *100)\n",
        "print('precentage of the rating 4:', 44995/332069 *100)\n",
        "print('precentage of the rating 3:', 22519/332069 *100)\n",
        "print('precentage of the rating 2:', 13319/332069 *100)\n",
        "print('precentage of the rating 1:', 22284/332069 *100)"
      ],
      "metadata": {
        "colab": {
          "base_uri": "https://localhost:8080/"
        },
        "id": "8cR6mlWAsF6Z",
        "outputId": "82d9e3c4-a0bf-4f68-925f-483fe50db8d1"
      },
      "id": "8cR6mlWAsF6Z",
      "execution_count": 157,
      "outputs": [
        {
          "output_type": "stream",
          "name": "stdout",
          "text": [
            "precentage of the rating 5: 68.94711641255282\n",
            "precentage of the rating 4: 13.549894750789745\n",
            "precentage of the rating 3: 6.781421933393361\n",
            "precentage of the rating 2: 4.0109133945053586\n",
            "precentage of the rating 1: 6.710653508758722\n"
          ]
        }
      ]
    },
    {
      "cell_type": "code",
      "execution_count": 25,
      "metadata": {
        "colab": {
          "base_uri": "https://localhost:8080/",
          "height": 447
        },
        "id": "756d870c",
        "outputId": "d7f0e405-dbd0-40d4-bc07-a6813eba1c00"
      },
      "outputs": [
        {
          "output_type": "execute_result",
          "data": {
            "text/plain": [
              "<Axes: ylabel='rating'>"
            ]
          },
          "metadata": {},
          "execution_count": 25
        },
        {
          "output_type": "display_data",
          "data": {
            "text/plain": [
              "<Figure size 640x480 with 1 Axes>"
            ],
            "image/png": "[encoded data removed]"
          },
          "metadata": {}
        }
      ],
      "source": [
        "#visualizing the data of grouping all reviews based on the rating value\n",
        "\n",
        "pdf2=df_col1.toPandas()\n",
        "pdf2.plot(kind='barh',x='rating',y='count')"
      ],
      "id": "756d870c"
    },
    {
      "cell_type": "code",
      "execution_count": 26,
      "metadata": {
        "colab": {
          "base_uri": "https://localhost:8080/"
        },
        "id": "b8027abb",
        "outputId": "4c0dfda3-af59-4e12-d647-f142bff2be1e"
      },
      "outputs": [
        {
          "output_type": "stream",
          "name": "stdout",
          "text": [
            "+----------+-----+\n",
            "|    itemID|count|\n",
            "+----------+-----+\n",
            "|B000WOM50W| 3580|\n",
            "|B000F7DPEQ| 3415|\n",
            "|B000P0LNRE| 2633|\n",
            "|B000980L02| 2422|\n",
            "|B000W5R6UA| 2370|\n",
            "|B000BQKGR0| 2087|\n",
            "|B000B7Q9KM| 2056|\n",
            "|B0014DGXU8| 1996|\n",
            "|B000Y00DDK| 1925|\n",
            "|B00172XBQA| 1924|\n",
            "+----------+-----+\n",
            "only showing top 10 rows\n",
            "\n"
          ]
        }
      ],
      "source": [
        "#grouping all data based on itemID and counting the occurance of the items \n",
        "#printing first 10 most occuring items\n",
        "\n",
        "df_col2 = df_new.groupBy('itemID').count().orderBy('count', ascending=False)\n",
        "df_col2.show(10)"
      ],
      "id": "b8027abb"
    },
    {
      "cell_type": "code",
      "source": [
        "#grouping all data based on userID and counting the occurance of the user \n",
        "#printing first 10 most occuring users in dataset\n",
        "\n",
        "df_col3 = df_new.groupBy('userID').count().orderBy('count', ascending=False)\n",
        "df_col3.show(10)"
      ],
      "metadata": {
        "colab": {
          "base_uri": "https://localhost:8080/"
        },
        "id": "pTLaY4Z_D2GP",
        "outputId": "b2289d0a-517e-47cb-ee92-2e767da228fa"
      },
      "id": "pTLaY4Z_D2GP",
      "execution_count": 27,
      "outputs": [
        {
          "output_type": "stream",
          "name": "stdout",
          "text": [
            "+--------------+-----+\n",
            "|        userID|count|\n",
            "+--------------+-----+\n",
            "| ALYZJ7W14YS26|   61|\n",
            "|A2U6VP21H9UVV3|   46|\n",
            "|A3E5V5TSTAY3R9|   46|\n",
            "|A13OFOB1394G31|   44|\n",
            "|A2OYDT4I6AK54P|   41|\n",
            "|A1GYEGLX3P2Y7P|   36|\n",
            "| AUQBDRIQFTRNM|   35|\n",
            "|A1PAGHECG401K1|   34|\n",
            "|A1BBCMQSEJN0PP|   32|\n",
            "|A24FX30B20WLMV|   31|\n",
            "+--------------+-----+\n",
            "only showing top 10 rows\n",
            "\n"
          ]
        }
      ]
    },
    {
      "cell_type": "code",
      "source": [
        "#select user with id ALYZJ7W14YS26 and print the summary of users occurrence, theirs average, min, max rating value\n",
        "\n",
        "df.filter(df.userID == \"ALYZJ7W14YS26\").describe().show()"
      ],
      "metadata": {
        "colab": {
          "base_uri": "https://localhost:8080/"
        },
        "id": "iB0raRRjHTQX",
        "outputId": "f9570703-307d-4bcd-c708-a218499694d3"
      },
      "id": "iB0raRRjHTQX",
      "execution_count": 28,
      "outputs": [
        {
          "output_type": "stream",
          "name": "stdout",
          "text": [
            "+-------+---------------+-------------+-------------------+--------------------+-----------+-------------+------------+--------------------+--------------------+-----------------+\n",
            "|summary|_corrupt_record|       itemID|             rating|              review| reviewTime|       userID|reviewerName|      review_summary|      unixReviewTime|             vote|\n",
            "+-------+---------------+-------------+-------------------+--------------------+-----------+-------------+------------+--------------------+--------------------+-----------------+\n",
            "|  count|              0|           61|                 61|                  61|         61|           61|          61|                  61|                  61|               21|\n",
            "|   mean|           null|1.574866745E9|  4.950819672131147|                null|       null|         null|        null|                null|1.4287387278688524E9|7.714285714285714|\n",
            "| stddev|           null|         null|0.21803894974650145|                null|       null|         null|        null|                null|1.2156316464347957E7|9.187724730001749|\n",
            "|    min|           null|   1574866745|                4.0|Charles Craft Aid...|01 17, 2017|ALYZJ7W14YS26|  iiiireader|A great inexpensi...|          1422921600|               10|\n",
            "|    max|           null|   B00172XBQA|                5.0|or years I have s...| 12 1, 2016|ALYZJ7W14YS26|  iiiireader|Wonderful for mak...|          1484611200|                9|\n",
            "+-------+---------------+-------------+-------------------+--------------------+-----------+-------------+------------+--------------------+--------------------+-----------------+\n",
            "\n"
          ]
        }
      ]
    },
    {
      "cell_type": "code",
      "execution_count": 38,
      "metadata": {
        "colab": {
          "base_uri": "https://localhost:8080/",
          "height": 206
        },
        "id": "1a6caaeb",
        "outputId": "bad2ff1d-e5f2-404e-980a-52781c18e9ef"
      },
      "outputs": [
        {
          "output_type": "execute_result",
          "data": {
            "text/plain": [
              "  summary                itemID                userID             rating  \\\n",
              "0   count                332069                332069             332069   \n",
              "1    mean  2.9880354356698585E9                  None  4.340119071638726   \n",
              "2  stddev  3.1500156529446254E9                  None  1.185750389503351   \n",
              "3     min            0449819906  A00181966XZUX7KEGYLH                1.0   \n",
              "4     max            B00181B8S8         AZZZWDTD5URZ8                5.0   \n",
              "\n",
              "                                              review  \\\n",
              "0                                             332069   \n",
              "1                                                1.0   \n",
              "2                                                0.0   \n",
              "3  \\nCan't say enough good things about this mach...   \n",
              "4               ~~~good,,,,, but not i have imagined   \n",
              "\n",
              "                                      review_summary  \n",
              "0                                             332069  \n",
              "1                                               15.0  \n",
              "2                                  34.39269025326665  \n",
              "3                                                     \n",
              "4  ~~so many sweaters saved thanks to the Fuzz Wi...  "
            ],
            "text/html": [
              "\n",
              "  <div id=\"df-a26d9fe5-cb5c-4750-89a0-b1579f8e9480\">\n",
              "    <div class=\"colab-df-container\">\n",
              "      <div>\n",
              "<style scoped>\n",
              "    .dataframe tbody tr th:only-of-type {\n",
              "        vertical-align: middle;\n",
              "    }\n",
              "\n",
              "    .dataframe tbody tr th {\n",
              "        vertical-align: top;\n",
              "    }\n",
              "\n",
              "    .dataframe thead th {\n",
              "        text-align: right;\n",
              "    }\n",
              "</style>\n",
              "<table border=\"1\" class=\"dataframe\">\n",
              "  <thead>\n",
              "    <tr style=\"text-align: right;\">\n",
              "      <th></th>\n",
              "      <th>summary</th>\n",
              "      <th>itemID</th>\n",
              "      <th>userID</th>\n",
              "      <th>rating</th>\n",
              "      <th>review</th>\n",
              "      <th>review_summary</th>\n",
              "    </tr>\n",
              "  </thead>\n",
              "  <tbody>\n",
              "    <tr>\n",
              "      <th>0</th>\n",
              "      <td>count</td>\n",
              "      <td>332069</td>\n",
              "      <td>332069</td>\n",
              "      <td>332069</td>\n",
              "      <td>332069</td>\n",
              "      <td>332069</td>\n",
              "    </tr>\n",
              "    <tr>\n",
              "      <th>1</th>\n",
              "      <td>mean</td>\n",
              "      <td>2.9880354356698585E9</td>\n",
              "      <td>None</td>\n",
              "      <td>4.340119071638726</td>\n",
              "      <td>1.0</td>\n",
              "      <td>15.0</td>\n",
              "    </tr>\n",
              "    <tr>\n",
              "      <th>2</th>\n",
              "      <td>stddev</td>\n",
              "      <td>3.1500156529446254E9</td>\n",
              "      <td>None</td>\n",
              "      <td>1.185750389503351</td>\n",
              "      <td>0.0</td>\n",
              "      <td>34.39269025326665</td>\n",
              "    </tr>\n",
              "    <tr>\n",
              "      <th>3</th>\n",
              "      <td>min</td>\n",
              "      <td>0449819906</td>\n",
              "      <td>A00181966XZUX7KEGYLH</td>\n",
              "      <td>1.0</td>\n",
              "      <td>\\nCan't say enough good things about this mach...</td>\n",
              "      <td></td>\n",
              "    </tr>\n",
              "    <tr>\n",
              "      <th>4</th>\n",
              "      <td>max</td>\n",
              "      <td>B00181B8S8</td>\n",
              "      <td>AZZZWDTD5URZ8</td>\n",
              "      <td>5.0</td>\n",
              "      <td>~~~good,,,,, but not i have imagined</td>\n",
              "      <td>~~so many sweaters saved thanks to the Fuzz Wi...</td>\n",
              "    </tr>\n",
              "  </tbody>\n",
              "</table>\n",
              "</div>\n",
              "      <button class=\"colab-df-convert\" onclick=\"convertToInteractive('df-a26d9fe5-cb5c-4750-89a0-b1579f8e9480')\"\n",
              "              title=\"Convert this dataframe to an interactive table.\"\n",
              "              style=\"display:none;\">\n",
              "        \n",
              "  <svg xmlns=\"http://www.w3.org/2000/svg\" height=\"24px\"viewBox=\"0 0 24 24\"\n",
              "       width=\"24px\">\n",
              "    <path d=\"M0 0h24v24H0V0z\" fill=\"none\"/>\n",
              "    <path d=\"M18.56 5.44l.94 2.06.94-2.06 2.06-.94-2.06-.94-.94-2.06-.94 2.06-2.06.94zm-11 1L8.5 8.5l.94-2.06 2.06-.94-2.06-.94L8.5 2.5l-.94 2.06-2.06.94zm10 10l.94 2.06.94-2.06 2.06-.94-2.06-.94-.94-2.06-.94 2.06-2.06.94z\"/><path d=\"M17.41 7.96l-1.37-1.37c-.4-.4-.92-.59-1.43-.59-.52 0-1.04.2-1.43.59L10.3 9.45l-7.72 7.72c-.78.78-.78 2.05 0 2.83L4 21.41c.39.39.9.59 1.41.59.51 0 1.02-.2 1.41-.59l7.78-7.78 2.81-2.81c.8-.78.8-2.07 0-2.86zM5.41 20L4 18.59l7.72-7.72 1.47 1.35L5.41 20z\"/>\n",
              "  </svg>\n",
              "      </button>\n",
              "      \n",
              "  <style>\n",
              "    .colab-df-container {\n",
              "      display:flex;\n",
              "      flex-wrap:wrap;\n",
              "      gap: 12px;\n",
              "    }\n",
              "\n",
              "    .colab-df-convert {\n",
              "      background-color: #E8F0FE;\n",
              "      border: none;\n",
              "      border-radius: 50%;\n",
              "      cursor: pointer;\n",
              "      display: none;\n",
              "      fill: #1967D2;\n",
              "      height: 32px;\n",
              "      padding: 0 0 0 0;\n",
              "      width: 32px;\n",
              "    }\n",
              "\n",
              "    .colab-df-convert:hover {\n",
              "      background-color: #E2EBFA;\n",
              "      box-shadow: 0px 1px 2px rgba(60, 64, 67, 0.3), 0px 1px 3px 1px rgba(60, 64, 67, 0.15);\n",
              "      fill: #174EA6;\n",
              "    }\n",
              "\n",
              "    [theme=dark] .colab-df-convert {\n",
              "      background-color: #3B4455;\n",
              "      fill: #D2E3FC;\n",
              "    }\n",
              "\n",
              "    [theme=dark] .colab-df-convert:hover {\n",
              "      background-color: #434B5C;\n",
              "      box-shadow: 0px 1px 3px 1px rgba(0, 0, 0, 0.15);\n",
              "      filter: drop-shadow(0px 1px 2px rgba(0, 0, 0, 0.3));\n",
              "      fill: #FFFFFF;\n",
              "    }\n",
              "  </style>\n",
              "\n",
              "      <script>\n",
              "        const buttonEl =\n",
              "          document.querySelector('#df-a26d9fe5-cb5c-4750-89a0-b1579f8e9480 button.colab-df-convert');\n",
              "        buttonEl.style.display =\n",
              "          google.colab.kernel.accessAllowed ? 'block' : 'none';\n",
              "\n",
              "        async function convertToInteractive(key) {\n",
              "          const element = document.querySelector('#df-a26d9fe5-cb5c-4750-89a0-b1579f8e9480');\n",
              "          const dataTable =\n",
              "            await google.colab.kernel.invokeFunction('convertToInteractive',\n",
              "                                                     [key], {});\n",
              "          if (!dataTable) return;\n",
              "\n",
              "          const docLinkHtml = 'Like what you see? Visit the ' +\n",
              "            '<a target=\"_blank\" href=https://colab.research.google.com/notebooks/data_table.ipynb>data table notebook</a>'\n",
              "            + ' to learn more about interactive tables.';\n",
              "          element.innerHTML = '';\n",
              "          dataTable['output_type'] = 'display_data';\n",
              "          await google.colab.output.renderOutput(dataTable, element);\n",
              "          const docLink = document.createElement('div');\n",
              "          docLink.innerHTML = docLinkHtml;\n",
              "          element.appendChild(docLink);\n",
              "        }\n",
              "      </script>\n",
              "    </div>\n",
              "  </div>\n",
              "  "
            ]
          },
          "metadata": {},
          "execution_count": 38
        }
      ],
      "source": [
        "#print the summary of dataset without the null values\n",
        "\n",
        "df_new.describe().toPandas()"
      ],
      "id": "1a6caaeb"
    },
    {
      "cell_type": "code",
      "execution_count": 29,
      "metadata": {
        "colab": {
          "base_uri": "https://localhost:8080/"
        },
        "id": "c1b62a04",
        "outputId": "d9018c65-8015-4e15-9b37-3b8768c8ca52"
      },
      "outputs": [
        {
          "output_type": "stream",
          "name": "stdout",
          "text": [
            "+----------------------+\n",
            "|count(DISTINCT userID)|\n",
            "+----------------------+\n",
            "|                248378|\n",
            "+----------------------+\n",
            "\n",
            "+----------------------+\n",
            "|count(DISTINCT itemID)|\n",
            "+----------------------+\n",
            "|                  4130|\n",
            "+----------------------+\n",
            "\n"
          ]
        }
      ],
      "source": [
        "#printing the distinct/unique values of userID, itemID - printing all unique users and items that are in the dataset\n",
        "\n",
        "from pyspark.sql.functions import count as _count\n",
        "from pyspark.sql.functions import countDistinct\n",
        "\n",
        "df_new.select(countDistinct('userID')).show()\n",
        "df_new.select(countDistinct('itemID')).show()"
      ],
      "id": "c1b62a04"
    },
    {
      "cell_type": "code",
      "execution_count": 30,
      "metadata": {
        "colab": {
          "base_uri": "https://localhost:8080/"
        },
        "id": "d85f56aa",
        "outputId": "3d46ce01-a3b1-44f1-95ee-688f548f4350"
      },
      "outputs": [
        {
          "output_type": "stream",
          "name": "stdout",
          "text": [
            "+-----------------+\n",
            "|   review_summary|\n",
            "+-----------------+\n",
            "|A  WONDERFUL BOOK|\n",
            "|             Nice|\n",
            "+-----------------+\n",
            "only showing top 2 rows\n",
            "\n"
          ]
        }
      ],
      "source": [
        "#displaying the example of review text\n",
        "\n",
        "df_new.select('review_summary').show(2)"
      ],
      "id": "d85f56aa"
    },
    {
      "cell_type": "code",
      "execution_count": null,
      "metadata": {
        "id": "37c62517"
      },
      "outputs": [],
      "source": [
        "#NLP - starting NLP"
      ],
      "id": "37c62517"
    },
    {
      "cell_type": "code",
      "execution_count": 32,
      "metadata": {
        "colab": {
          "base_uri": "https://localhost:8080/",
          "height": 424
        },
        "id": "785dd384",
        "outputId": "112b4754-e243-49d6-e74e-ff78a6981afb"
      },
      "outputs": [
        {
          "output_type": "execute_result",
          "data": {
            "text/plain": [
              "                                                   review  rating\n",
              "0       I've read this book already and I've got plans...     5.0\n",
              "1                              Nicely written directions.     5.0\n",
              "2                                                 love it     5.0\n",
              "3       Good additional knitting reference to have ava...     5.0\n",
              "4       A gazillion pattern stitches, lucidly explaine...     5.0\n",
              "...                                                   ...     ...\n",
              "332064  Great product. Received it super fast. Will be...     5.0\n",
              "332065  I've hand repaired things for years with an ol...     5.0\n",
              "332066  perfect for us to use with our awl....you will...     5.0\n",
              "332067  Exactly what I needed for a small project that...     5.0\n",
              "332068  I can't say it's an horrible product it just d...     2.0\n",
              "\n",
              "[332069 rows x 2 columns]"
            ],
            "text/html": [
              "\n",
              "  <div id=\"df-44bbf767-1ff3-47a0-854a-493176e26d6d\">\n",
              "    <div class=\"colab-df-container\">\n",
              "      <div>\n",
              "<style scoped>\n",
              "    .dataframe tbody tr th:only-of-type {\n",
              "        vertical-align: middle;\n",
              "    }\n",
              "\n",
              "    .dataframe tbody tr th {\n",
              "        vertical-align: top;\n",
              "    }\n",
              "\n",
              "    .dataframe thead th {\n",
              "        text-align: right;\n",
              "    }\n",
              "</style>\n",
              "<table border=\"1\" class=\"dataframe\">\n",
              "  <thead>\n",
              "    <tr style=\"text-align: right;\">\n",
              "      <th></th>\n",
              "      <th>review</th>\n",
              "      <th>rating</th>\n",
              "    </tr>\n",
              "  </thead>\n",
              "  <tbody>\n",
              "    <tr>\n",
              "      <th>0</th>\n",
              "      <td>I've read this book already and I've got plans...</td>\n",
              "      <td>5.0</td>\n",
              "    </tr>\n",
              "    <tr>\n",
              "      <th>1</th>\n",
              "      <td>Nicely written directions.</td>\n",
              "      <td>5.0</td>\n",
              "    </tr>\n",
              "    <tr>\n",
              "      <th>2</th>\n",
              "      <td>love it</td>\n",
              "      <td>5.0</td>\n",
              "    </tr>\n",
              "    <tr>\n",
              "      <th>3</th>\n",
              "      <td>Good additional knitting reference to have ava...</td>\n",
              "      <td>5.0</td>\n",
              "    </tr>\n",
              "    <tr>\n",
              "      <th>4</th>\n",
              "      <td>A gazillion pattern stitches, lucidly explaine...</td>\n",
              "      <td>5.0</td>\n",
              "    </tr>\n",
              "    <tr>\n",
              "      <th>...</th>\n",
              "      <td>...</td>\n",
              "      <td>...</td>\n",
              "    </tr>\n",
              "    <tr>\n",
              "      <th>332064</th>\n",
              "      <td>Great product. Received it super fast. Will be...</td>\n",
              "      <td>5.0</td>\n",
              "    </tr>\n",
              "    <tr>\n",
              "      <th>332065</th>\n",
              "      <td>I've hand repaired things for years with an ol...</td>\n",
              "      <td>5.0</td>\n",
              "    </tr>\n",
              "    <tr>\n",
              "      <th>332066</th>\n",
              "      <td>perfect for us to use with our awl....you will...</td>\n",
              "      <td>5.0</td>\n",
              "    </tr>\n",
              "    <tr>\n",
              "      <th>332067</th>\n",
              "      <td>Exactly what I needed for a small project that...</td>\n",
              "      <td>5.0</td>\n",
              "    </tr>\n",
              "    <tr>\n",
              "      <th>332068</th>\n",
              "      <td>I can't say it's an horrible product it just d...</td>\n",
              "      <td>2.0</td>\n",
              "    </tr>\n",
              "  </tbody>\n",
              "</table>\n",
              "<p>332069 rows × 2 columns</p>\n",
              "</div>\n",
              "      <button class=\"colab-df-convert\" onclick=\"convertToInteractive('df-44bbf767-1ff3-47a0-854a-493176e26d6d')\"\n",
              "              title=\"Convert this dataframe to an interactive table.\"\n",
              "              style=\"display:none;\">\n",
              "        \n",
              "  <svg xmlns=\"http://www.w3.org/2000/svg\" height=\"24px\"viewBox=\"0 0 24 24\"\n",
              "       width=\"24px\">\n",
              "    <path d=\"M0 0h24v24H0V0z\" fill=\"none\"/>\n",
              "    <path d=\"M18.56 5.44l.94 2.06.94-2.06 2.06-.94-2.06-.94-.94-2.06-.94 2.06-2.06.94zm-11 1L8.5 8.5l.94-2.06 2.06-.94-2.06-.94L8.5 2.5l-.94 2.06-2.06.94zm10 10l.94 2.06.94-2.06 2.06-.94-2.06-.94-.94-2.06-.94 2.06-2.06.94z\"/><path d=\"M17.41 7.96l-1.37-1.37c-.4-.4-.92-.59-1.43-.59-.52 0-1.04.2-1.43.59L10.3 9.45l-7.72 7.72c-.78.78-.78 2.05 0 2.83L4 21.41c.39.39.9.59 1.41.59.51 0 1.02-.2 1.41-.59l7.78-7.78 2.81-2.81c.8-.78.8-2.07 0-2.86zM5.41 20L4 18.59l7.72-7.72 1.47 1.35L5.41 20z\"/>\n",
              "  </svg>\n",
              "      </button>\n",
              "      \n",
              "  <style>\n",
              "    .colab-df-container {\n",
              "      display:flex;\n",
              "      flex-wrap:wrap;\n",
              "      gap: 12px;\n",
              "    }\n",
              "\n",
              "    .colab-df-convert {\n",
              "      background-color: #E8F0FE;\n",
              "      border: none;\n",
              "      border-radius: 50%;\n",
              "      cursor: pointer;\n",
              "      display: none;\n",
              "      fill: #1967D2;\n",
              "      height: 32px;\n",
              "      padding: 0 0 0 0;\n",
              "      width: 32px;\n",
              "    }\n",
              "\n",
              "    .colab-df-convert:hover {\n",
              "      background-color: #E2EBFA;\n",
              "      box-shadow: 0px 1px 2px rgba(60, 64, 67, 0.3), 0px 1px 3px 1px rgba(60, 64, 67, 0.15);\n",
              "      fill: #174EA6;\n",
              "    }\n",
              "\n",
              "    [theme=dark] .colab-df-convert {\n",
              "      background-color: #3B4455;\n",
              "      fill: #D2E3FC;\n",
              "    }\n",
              "\n",
              "    [theme=dark] .colab-df-convert:hover {\n",
              "      background-color: #434B5C;\n",
              "      box-shadow: 0px 1px 3px 1px rgba(0, 0, 0, 0.15);\n",
              "      filter: drop-shadow(0px 1px 2px rgba(0, 0, 0, 0.3));\n",
              "      fill: #FFFFFF;\n",
              "    }\n",
              "  </style>\n",
              "\n",
              "      <script>\n",
              "        const buttonEl =\n",
              "          document.querySelector('#df-44bbf767-1ff3-47a0-854a-493176e26d6d button.colab-df-convert');\n",
              "        buttonEl.style.display =\n",
              "          google.colab.kernel.accessAllowed ? 'block' : 'none';\n",
              "\n",
              "        async function convertToInteractive(key) {\n",
              "          const element = document.querySelector('#df-44bbf767-1ff3-47a0-854a-493176e26d6d');\n",
              "          const dataTable =\n",
              "            await google.colab.kernel.invokeFunction('convertToInteractive',\n",
              "                                                     [key], {});\n",
              "          if (!dataTable) return;\n",
              "\n",
              "          const docLinkHtml = 'Like what you see? Visit the ' +\n",
              "            '<a target=\"_blank\" href=https://colab.research.google.com/notebooks/data_table.ipynb>data table notebook</a>'\n",
              "            + ' to learn more about interactive tables.';\n",
              "          element.innerHTML = '';\n",
              "          dataTable['output_type'] = 'display_data';\n",
              "          await google.colab.output.renderOutput(dataTable, element);\n",
              "          const docLink = document.createElement('div');\n",
              "          docLink.innerHTML = docLinkHtml;\n",
              "          element.appendChild(docLink);\n",
              "        }\n",
              "      </script>\n",
              "    </div>\n",
              "  </div>\n",
              "  "
            ]
          },
          "metadata": {},
          "execution_count": 32
        }
      ],
      "source": [
        "#creating new dataframe of only review and rating columns \n",
        "\n",
        "df_new['review','rating'].toPandas()"
      ],
      "id": "785dd384"
    },
    {
      "cell_type": "code",
      "execution_count": 34,
      "metadata": {
        "id": "LtgWMw15HoyW"
      },
      "outputs": [],
      "source": [
        "#selecting only review column and transforming it to dataframe\n",
        "\n",
        "df_review = df_new.select('review')\n",
        "df_review = df_review.toPandas()"
      ],
      "id": "LtgWMw15HoyW"
    },
    {
      "cell_type": "code",
      "execution_count": 35,
      "metadata": {
        "colab": {
          "base_uri": "https://localhost:8080/",
          "height": 424
        },
        "id": "Hcup4JnRJn4m",
        "outputId": "80287441-75e7-488e-87a9-60b053e1e81d"
      },
      "outputs": [
        {
          "output_type": "execute_result",
          "data": {
            "text/plain": [
              "                                                   review\n",
              "0       I've read this book already and I've got plans...\n",
              "1                              Nicely written directions.\n",
              "2                                                 love it\n",
              "3       Good additional knitting reference to have ava...\n",
              "4       A gazillion pattern stitches, lucidly explaine...\n",
              "...                                                   ...\n",
              "332064  Great product. Received it super fast. Will be...\n",
              "332065  I've hand repaired things for years with an ol...\n",
              "332066  perfect for us to use with our awl....you will...\n",
              "332067  Exactly what I needed for a small project that...\n",
              "332068  I can't say it's an horrible product it just d...\n",
              "\n",
              "[332069 rows x 1 columns]"
            ],
            "text/html": [
              "\n",
              "  <div id=\"df-192d5749-d7a1-4b80-b1ca-a8d815cc69ab\">\n",
              "    <div class=\"colab-df-container\">\n",
              "      <div>\n",
              "<style scoped>\n",
              "    .dataframe tbody tr th:only-of-type {\n",
              "        vertical-align: middle;\n",
              "    }\n",
              "\n",
              "    .dataframe tbody tr th {\n",
              "        vertical-align: top;\n",
              "    }\n",
              "\n",
              "    .dataframe thead th {\n",
              "        text-align: right;\n",
              "    }\n",
              "</style>\n",
              "<table border=\"1\" class=\"dataframe\">\n",
              "  <thead>\n",
              "    <tr style=\"text-align: right;\">\n",
              "      <th></th>\n",
              "      <th>review</th>\n",
              "    </tr>\n",
              "  </thead>\n",
              "  <tbody>\n",
              "    <tr>\n",
              "      <th>0</th>\n",
              "      <td>I've read this book already and I've got plans...</td>\n",
              "    </tr>\n",
              "    <tr>\n",
              "      <th>1</th>\n",
              "      <td>Nicely written directions.</td>\n",
              "    </tr>\n",
              "    <tr>\n",
              "      <th>2</th>\n",
              "      <td>love it</td>\n",
              "    </tr>\n",
              "    <tr>\n",
              "      <th>3</th>\n",
              "      <td>Good additional knitting reference to have ava...</td>\n",
              "    </tr>\n",
              "    <tr>\n",
              "      <th>4</th>\n",
              "      <td>A gazillion pattern stitches, lucidly explaine...</td>\n",
              "    </tr>\n",
              "    <tr>\n",
              "      <th>...</th>\n",
              "      <td>...</td>\n",
              "    </tr>\n",
              "    <tr>\n",
              "      <th>332064</th>\n",
              "      <td>Great product. Received it super fast. Will be...</td>\n",
              "    </tr>\n",
              "    <tr>\n",
              "      <th>332065</th>\n",
              "      <td>I've hand repaired things for years with an ol...</td>\n",
              "    </tr>\n",
              "    <tr>\n",
              "      <th>332066</th>\n",
              "      <td>perfect for us to use with our awl....you will...</td>\n",
              "    </tr>\n",
              "    <tr>\n",
              "      <th>332067</th>\n",
              "      <td>Exactly what I needed for a small project that...</td>\n",
              "    </tr>\n",
              "    <tr>\n",
              "      <th>332068</th>\n",
              "      <td>I can't say it's an horrible product it just d...</td>\n",
              "    </tr>\n",
              "  </tbody>\n",
              "</table>\n",
              "<p>332069 rows × 1 columns</p>\n",
              "</div>\n",
              "      <button class=\"colab-df-convert\" onclick=\"convertToInteractive('df-192d5749-d7a1-4b80-b1ca-a8d815cc69ab')\"\n",
              "              title=\"Convert this dataframe to an interactive table.\"\n",
              "              style=\"display:none;\">\n",
              "        \n",
              "  <svg xmlns=\"http://www.w3.org/2000/svg\" height=\"24px\"viewBox=\"0 0 24 24\"\n",
              "       width=\"24px\">\n",
              "    <path d=\"M0 0h24v24H0V0z\" fill=\"none\"/>\n",
              "    <path d=\"M18.56 5.44l.94 2.06.94-2.06 2.06-.94-2.06-.94-.94-2.06-.94 2.06-2.06.94zm-11 1L8.5 8.5l.94-2.06 2.06-.94-2.06-.94L8.5 2.5l-.94 2.06-2.06.94zm10 10l.94 2.06.94-2.06 2.06-.94-2.06-.94-.94-2.06-.94 2.06-2.06.94z\"/><path d=\"M17.41 7.96l-1.37-1.37c-.4-.4-.92-.59-1.43-.59-.52 0-1.04.2-1.43.59L10.3 9.45l-7.72 7.72c-.78.78-.78 2.05 0 2.83L4 21.41c.39.39.9.59 1.41.59.51 0 1.02-.2 1.41-.59l7.78-7.78 2.81-2.81c.8-.78.8-2.07 0-2.86zM5.41 20L4 18.59l7.72-7.72 1.47 1.35L5.41 20z\"/>\n",
              "  </svg>\n",
              "      </button>\n",
              "      \n",
              "  <style>\n",
              "    .colab-df-container {\n",
              "      display:flex;\n",
              "      flex-wrap:wrap;\n",
              "      gap: 12px;\n",
              "    }\n",
              "\n",
              "    .colab-df-convert {\n",
              "      background-color: #E8F0FE;\n",
              "      border: none;\n",
              "      border-radius: 50%;\n",
              "      cursor: pointer;\n",
              "      display: none;\n",
              "      fill: #1967D2;\n",
              "      height: 32px;\n",
              "      padding: 0 0 0 0;\n",
              "      width: 32px;\n",
              "    }\n",
              "\n",
              "    .colab-df-convert:hover {\n",
              "      background-color: #E2EBFA;\n",
              "      box-shadow: 0px 1px 2px rgba(60, 64, 67, 0.3), 0px 1px 3px 1px rgba(60, 64, 67, 0.15);\n",
              "      fill: #174EA6;\n",
              "    }\n",
              "\n",
              "    [theme=dark] .colab-df-convert {\n",
              "      background-color: #3B4455;\n",
              "      fill: #D2E3FC;\n",
              "    }\n",
              "\n",
              "    [theme=dark] .colab-df-convert:hover {\n",
              "      background-color: #434B5C;\n",
              "      box-shadow: 0px 1px 3px 1px rgba(0, 0, 0, 0.15);\n",
              "      filter: drop-shadow(0px 1px 2px rgba(0, 0, 0, 0.3));\n",
              "      fill: #FFFFFF;\n",
              "    }\n",
              "  </style>\n",
              "\n",
              "      <script>\n",
              "        const buttonEl =\n",
              "          document.querySelector('#df-192d5749-d7a1-4b80-b1ca-a8d815cc69ab button.colab-df-convert');\n",
              "        buttonEl.style.display =\n",
              "          google.colab.kernel.accessAllowed ? 'block' : 'none';\n",
              "\n",
              "        async function convertToInteractive(key) {\n",
              "          const element = document.querySelector('#df-192d5749-d7a1-4b80-b1ca-a8d815cc69ab');\n",
              "          const dataTable =\n",
              "            await google.colab.kernel.invokeFunction('convertToInteractive',\n",
              "                                                     [key], {});\n",
              "          if (!dataTable) return;\n",
              "\n",
              "          const docLinkHtml = 'Like what you see? Visit the ' +\n",
              "            '<a target=\"_blank\" href=https://colab.research.google.com/notebooks/data_table.ipynb>data table notebook</a>'\n",
              "            + ' to learn more about interactive tables.';\n",
              "          element.innerHTML = '';\n",
              "          dataTable['output_type'] = 'display_data';\n",
              "          await google.colab.output.renderOutput(dataTable, element);\n",
              "          const docLink = document.createElement('div');\n",
              "          docLink.innerHTML = docLinkHtml;\n",
              "          element.appendChild(docLink);\n",
              "        }\n",
              "      </script>\n",
              "    </div>\n",
              "  </div>\n",
              "  "
            ]
          },
          "metadata": {},
          "execution_count": 35
        }
      ],
      "source": [
        "df_review"
      ],
      "id": "Hcup4JnRJn4m"
    },
    {
      "cell_type": "code",
      "execution_count": 36,
      "metadata": {
        "colab": {
          "base_uri": "https://localhost:8080/",
          "height": 70
        },
        "id": "-sDZX4anKcuU",
        "outputId": "6aad9f93-1d54-45d6-9e30-04a0670d0e6e"
      },
      "outputs": [
        {
          "output_type": "execute_result",
          "data": {
            "text/plain": [
              "\"I've read this book already and I've got plans for using it in future projects.  I'm DELIGHTED with the patterns in it and the advice and suggestions are just as good as you would expect from Melissa Leapman.  I'm so glad that I bought this.  As a lifelong and addicted knitter, this has been a valuable addition to my already good sized book collection.  Thanks Melissa for this very special knitting treat.\""
            ],
            "application/vnd.google.colaboratory.intrinsic+json": {
              "type": "string"
            }
          },
          "metadata": {},
          "execution_count": 36
        }
      ],
      "source": [
        "#printing 10th review text\n",
        "\n",
        "df_review['review'][0]"
      ],
      "id": "-sDZX4anKcuU"
    },
    {
      "cell_type": "code",
      "execution_count": 37,
      "metadata": {
        "id": "Jqj5_U21MDx3"
      },
      "outputs": [],
      "source": [
        "#calculating total words of every review text for every row and saving it as new column in the dataframe\n",
        "\n",
        "df_review['totalwords'] = [len(x.split()) for x in df_review['review'].tolist()]"
      ],
      "id": "Jqj5_U21MDx3"
    },
    {
      "cell_type": "code",
      "source": [
        "#calculating total char of every review text for every row and saving it as new column in the dataframe\n",
        "\n",
        "df_review['totalchar'] = [len(x) for x in df_review['review'].tolist()]"
      ],
      "metadata": {
        "id": "OuAi70XfC9V1"
      },
      "id": "OuAi70XfC9V1",
      "execution_count": 38,
      "outputs": []
    },
    {
      "cell_type": "code",
      "source": [
        "#calculating word density of every review text for every row and saving it as new column in the dataframe\n",
        "\n",
        "df_review['worddensity'] = df_review['totalchar'] / (df_review['totalwords']+1)"
      ],
      "metadata": {
        "id": "NUuJeNysD-T8"
      },
      "id": "NUuJeNysD-T8",
      "execution_count": 39,
      "outputs": []
    },
    {
      "cell_type": "code",
      "execution_count": 40,
      "metadata": {
        "colab": {
          "base_uri": "https://localhost:8080/",
          "height": 424
        },
        "id": "_rOyeoycKxbD",
        "outputId": "8447ac33-e4f6-4704-910b-5ff50315a17f"
      },
      "outputs": [
        {
          "output_type": "execute_result",
          "data": {
            "text/plain": [
              "                                                   review  totalwords  \\\n",
              "0       I've read this book already and I've got plans...          72   \n",
              "1                              Nicely written directions.           3   \n",
              "2                                                 love it           2   \n",
              "3       Good additional knitting reference to have ava...          44   \n",
              "4       A gazillion pattern stitches, lucidly explaine...          53   \n",
              "...                                                   ...         ...   \n",
              "332064  Great product. Received it super fast. Will be...          21   \n",
              "332065  I've hand repaired things for years with an ol...          61   \n",
              "332066  perfect for us to use with our awl....you will...          22   \n",
              "332067  Exactly what I needed for a small project that...          25   \n",
              "332068  I can't say it's an horrible product it just d...          69   \n",
              "\n",
              "        totalchar  worddensity  \n",
              "0             408     5.589041  \n",
              "1              26     6.500000  \n",
              "2               7     2.333333  \n",
              "3             236     5.244444  \n",
              "4             337     6.240741  \n",
              "...           ...          ...  \n",
              "332064        125     5.681818  \n",
              "332065        333     5.370968  \n",
              "332066        120     5.217391  \n",
              "332067        136     5.230769  \n",
              "332068        364     5.200000  \n",
              "\n",
              "[332069 rows x 4 columns]"
            ],
            "text/html": [
              "\n",
              "  <div id=\"df-dcf06424-aede-4b04-9563-08eda91dc25b\">\n",
              "    <div class=\"colab-df-container\">\n",
              "      <div>\n",
              "<style scoped>\n",
              "    .dataframe tbody tr th:only-of-type {\n",
              "        vertical-align: middle;\n",
              "    }\n",
              "\n",
              "    .dataframe tbody tr th {\n",
              "        vertical-align: top;\n",
              "    }\n",
              "\n",
              "    .dataframe thead th {\n",
              "        text-align: right;\n",
              "    }\n",
              "</style>\n",
              "<table border=\"1\" class=\"dataframe\">\n",
              "  <thead>\n",
              "    <tr style=\"text-align: right;\">\n",
              "      <th></th>\n",
              "      <th>review</th>\n",
              "      <th>totalwords</th>\n",
              "      <th>totalchar</th>\n",
              "      <th>worddensity</th>\n",
              "    </tr>\n",
              "  </thead>\n",
              "  <tbody>\n",
              "    <tr>\n",
              "      <th>0</th>\n",
              "      <td>I've read this book already and I've got plans...</td>\n",
              "      <td>72</td>\n",
              "      <td>408</td>\n",
              "      <td>5.589041</td>\n",
              "    </tr>\n",
              "    <tr>\n",
              "      <th>1</th>\n",
              "      <td>Nicely written directions.</td>\n",
              "      <td>3</td>\n",
              "      <td>26</td>\n",
              "      <td>6.500000</td>\n",
              "    </tr>\n",
              "    <tr>\n",
              "      <th>2</th>\n",
              "      <td>love it</td>\n",
              "      <td>2</td>\n",
              "      <td>7</td>\n",
              "      <td>2.333333</td>\n",
              "    </tr>\n",
              "    <tr>\n",
              "      <th>3</th>\n",
              "      <td>Good additional knitting reference to have ava...</td>\n",
              "      <td>44</td>\n",
              "      <td>236</td>\n",
              "      <td>5.244444</td>\n",
              "    </tr>\n",
              "    <tr>\n",
              "      <th>4</th>\n",
              "      <td>A gazillion pattern stitches, lucidly explaine...</td>\n",
              "      <td>53</td>\n",
              "      <td>337</td>\n",
              "      <td>6.240741</td>\n",
              "    </tr>\n",
              "    <tr>\n",
              "      <th>...</th>\n",
              "      <td>...</td>\n",
              "      <td>...</td>\n",
              "      <td>...</td>\n",
              "      <td>...</td>\n",
              "    </tr>\n",
              "    <tr>\n",
              "      <th>332064</th>\n",
              "      <td>Great product. Received it super fast. Will be...</td>\n",
              "      <td>21</td>\n",
              "      <td>125</td>\n",
              "      <td>5.681818</td>\n",
              "    </tr>\n",
              "    <tr>\n",
              "      <th>332065</th>\n",
              "      <td>I've hand repaired things for years with an ol...</td>\n",
              "      <td>61</td>\n",
              "      <td>333</td>\n",
              "      <td>5.370968</td>\n",
              "    </tr>\n",
              "    <tr>\n",
              "      <th>332066</th>\n",
              "      <td>perfect for us to use with our awl....you will...</td>\n",
              "      <td>22</td>\n",
              "      <td>120</td>\n",
              "      <td>5.217391</td>\n",
              "    </tr>\n",
              "    <tr>\n",
              "      <th>332067</th>\n",
              "      <td>Exactly what I needed for a small project that...</td>\n",
              "      <td>25</td>\n",
              "      <td>136</td>\n",
              "      <td>5.230769</td>\n",
              "    </tr>\n",
              "    <tr>\n",
              "      <th>332068</th>\n",
              "      <td>I can't say it's an horrible product it just d...</td>\n",
              "      <td>69</td>\n",
              "      <td>364</td>\n",
              "      <td>5.200000</td>\n",
              "    </tr>\n",
              "  </tbody>\n",
              "</table>\n",
              "<p>332069 rows × 4 columns</p>\n",
              "</div>\n",
              "      <button class=\"colab-df-convert\" onclick=\"convertToInteractive('df-dcf06424-aede-4b04-9563-08eda91dc25b')\"\n",
              "              title=\"Convert this dataframe to an interactive table.\"\n",
              "              style=\"display:none;\">\n",
              "        \n",
              "  <svg xmlns=\"http://www.w3.org/2000/svg\" height=\"24px\"viewBox=\"0 0 24 24\"\n",
              "       width=\"24px\">\n",
              "    <path d=\"M0 0h24v24H0V0z\" fill=\"none\"/>\n",
              "    <path d=\"M18.56 5.44l.94 2.06.94-2.06 2.06-.94-2.06-.94-.94-2.06-.94 2.06-2.06.94zm-11 1L8.5 8.5l.94-2.06 2.06-.94-2.06-.94L8.5 2.5l-.94 2.06-2.06.94zm10 10l.94 2.06.94-2.06 2.06-.94-2.06-.94-.94-2.06-.94 2.06-2.06.94z\"/><path d=\"M17.41 7.96l-1.37-1.37c-.4-.4-.92-.59-1.43-.59-.52 0-1.04.2-1.43.59L10.3 9.45l-7.72 7.72c-.78.78-.78 2.05 0 2.83L4 21.41c.39.39.9.59 1.41.59.51 0 1.02-.2 1.41-.59l7.78-7.78 2.81-2.81c.8-.78.8-2.07 0-2.86zM5.41 20L4 18.59l7.72-7.72 1.47 1.35L5.41 20z\"/>\n",
              "  </svg>\n",
              "      </button>\n",
              "      \n",
              "  <style>\n",
              "    .colab-df-container {\n",
              "      display:flex;\n",
              "      flex-wrap:wrap;\n",
              "      gap: 12px;\n",
              "    }\n",
              "\n",
              "    .colab-df-convert {\n",
              "      background-color: #E8F0FE;\n",
              "      border: none;\n",
              "      border-radius: 50%;\n",
              "      cursor: pointer;\n",
              "      display: none;\n",
              "      fill: #1967D2;\n",
              "      height: 32px;\n",
              "      padding: 0 0 0 0;\n",
              "      width: 32px;\n",
              "    }\n",
              "\n",
              "    .colab-df-convert:hover {\n",
              "      background-color: #E2EBFA;\n",
              "      box-shadow: 0px 1px 2px rgba(60, 64, 67, 0.3), 0px 1px 3px 1px rgba(60, 64, 67, 0.15);\n",
              "      fill: #174EA6;\n",
              "    }\n",
              "\n",
              "    [theme=dark] .colab-df-convert {\n",
              "      background-color: #3B4455;\n",
              "      fill: #D2E3FC;\n",
              "    }\n",
              "\n",
              "    [theme=dark] .colab-df-convert:hover {\n",
              "      background-color: #434B5C;\n",
              "      box-shadow: 0px 1px 3px 1px rgba(0, 0, 0, 0.15);\n",
              "      filter: drop-shadow(0px 1px 2px rgba(0, 0, 0, 0.3));\n",
              "      fill: #FFFFFF;\n",
              "    }\n",
              "  </style>\n",
              "\n",
              "      <script>\n",
              "        const buttonEl =\n",
              "          document.querySelector('#df-dcf06424-aede-4b04-9563-08eda91dc25b button.colab-df-convert');\n",
              "        buttonEl.style.display =\n",
              "          google.colab.kernel.accessAllowed ? 'block' : 'none';\n",
              "\n",
              "        async function convertToInteractive(key) {\n",
              "          const element = document.querySelector('#df-dcf06424-aede-4b04-9563-08eda91dc25b');\n",
              "          const dataTable =\n",
              "            await google.colab.kernel.invokeFunction('convertToInteractive',\n",
              "                                                     [key], {});\n",
              "          if (!dataTable) return;\n",
              "\n",
              "          const docLinkHtml = 'Like what you see? Visit the ' +\n",
              "            '<a target=\"_blank\" href=https://colab.research.google.com/notebooks/data_table.ipynb>data table notebook</a>'\n",
              "            + ' to learn more about interactive tables.';\n",
              "          element.innerHTML = '';\n",
              "          dataTable['output_type'] = 'display_data';\n",
              "          await google.colab.output.renderOutput(dataTable, element);\n",
              "          const docLink = document.createElement('div');\n",
              "          docLink.innerHTML = docLinkHtml;\n",
              "          element.appendChild(docLink);\n",
              "        }\n",
              "      </script>\n",
              "    </div>\n",
              "  </div>\n",
              "  "
            ]
          },
          "metadata": {},
          "execution_count": 40
        }
      ],
      "source": [
        "#displaying newly made dataframe\n",
        "\n",
        "df_review"
      ],
      "id": "_rOyeoycKxbD"
    },
    {
      "cell_type": "code",
      "source": [
        "#counting all words in the dataframe\n",
        "\n",
        "df_review['totalwords'].sum()"
      ],
      "metadata": {
        "colab": {
          "base_uri": "https://localhost:8080/"
        },
        "id": "dHfoT6b_Csjo",
        "outputId": "99241f60-3b5d-4634-c124-2ecd8a31297a"
      },
      "id": "dHfoT6b_Csjo",
      "execution_count": 41,
      "outputs": [
        {
          "output_type": "execute_result",
          "data": {
            "text/plain": [
              "10961712"
            ]
          },
          "metadata": {},
          "execution_count": 41
        }
      ]
    },
    {
      "cell_type": "code",
      "source": [
        "#counting all chars in the dataframe\n",
        "\n",
        "df_review['totalchar'].sum()"
      ],
      "metadata": {
        "colab": {
          "base_uri": "https://localhost:8080/"
        },
        "id": "PBOWsTA3w5KC",
        "outputId": "1dd3a9af-281c-42f9-b9ee-e462ab081ac4"
      },
      "id": "PBOWsTA3w5KC",
      "execution_count": 42,
      "outputs": [
        {
          "output_type": "execute_result",
          "data": {
            "text/plain": [
              "58491249"
            ]
          },
          "metadata": {},
          "execution_count": 42
        }
      ]
    },
    {
      "cell_type": "code",
      "source": [
        "#printing summary of the dataframe with totalwords, totalchar, worddensity columns; printing its mean, min, max values\n",
        "\n",
        "df_review.describe()"
      ],
      "metadata": {
        "colab": {
          "base_uri": "https://localhost:8080/",
          "height": 300
        },
        "outputId": "31098ab2-d54f-4ecf-98e9-f7fa3f1c815f",
        "id": "L7TUMRMI_RHR"
      },
      "execution_count": 85,
      "outputs": [
        {
          "output_type": "execute_result",
          "data": {
            "text/plain": [
              "          totalwords      totalchar    worddensity         rating\n",
              "count  332069.000000  332069.000000  332069.000000  332069.000000\n",
              "mean       33.010344     176.141853       4.884095       4.340119\n",
              "std        48.440712     261.154349       0.853982       1.185750\n",
              "min         1.000000       1.000000       0.500000       1.000000\n",
              "25%         7.000000      39.000000       4.583333       4.000000\n",
              "50%        21.000000     109.000000       5.000000       5.000000\n",
              "75%        40.000000     209.000000       5.348837       5.000000\n",
              "max      3739.000000   19323.000000      47.000000       5.000000"
            ],
            "text/html": [
              "\n",
              "  <div id=\"df-ad76311d-39f4-418a-995c-8bc13af9d1b1\">\n",
              "    <div class=\"colab-df-container\">\n",
              "      <div>\n",
              "<style scoped>\n",
              "    .dataframe tbody tr th:only-of-type {\n",
              "        vertical-align: middle;\n",
              "    }\n",
              "\n",
              "    .dataframe tbody tr th {\n",
              "        vertical-align: top;\n",
              "    }\n",
              "\n",
              "    .dataframe thead th {\n",
              "        text-align: right;\n",
              "    }\n",
              "</style>\n",
              "<table border=\"1\" class=\"dataframe\">\n",
              "  <thead>\n",
              "    <tr style=\"text-align: right;\">\n",
              "      <th></th>\n",
              "      <th>totalwords</th>\n",
              "      <th>totalchar</th>\n",
              "      <th>worddensity</th>\n",
              "      <th>rating</th>\n",
              "    </tr>\n",
              "  </thead>\n",
              "  <tbody>\n",
              "    <tr>\n",
              "      <th>count</th>\n",
              "      <td>332069.000000</td>\n",
              "      <td>332069.000000</td>\n",
              "      <td>332069.000000</td>\n",
              "      <td>332069.000000</td>\n",
              "    </tr>\n",
              "    <tr>\n",
              "      <th>mean</th>\n",
              "      <td>33.010344</td>\n",
              "      <td>176.141853</td>\n",
              "      <td>4.884095</td>\n",
              "      <td>4.340119</td>\n",
              "    </tr>\n",
              "    <tr>\n",
              "      <th>std</th>\n",
              "      <td>48.440712</td>\n",
              "      <td>261.154349</td>\n",
              "      <td>0.853982</td>\n",
              "      <td>1.185750</td>\n",
              "    </tr>\n",
              "    <tr>\n",
              "      <th>min</th>\n",
              "      <td>1.000000</td>\n",
              "      <td>1.000000</td>\n",
              "      <td>0.500000</td>\n",
              "      <td>1.000000</td>\n",
              "    </tr>\n",
              "    <tr>\n",
              "      <th>25%</th>\n",
              "      <td>7.000000</td>\n",
              "      <td>39.000000</td>\n",
              "      <td>4.583333</td>\n",
              "      <td>4.000000</td>\n",
              "    </tr>\n",
              "    <tr>\n",
              "      <th>50%</th>\n",
              "      <td>21.000000</td>\n",
              "      <td>109.000000</td>\n",
              "      <td>5.000000</td>\n",
              "      <td>5.000000</td>\n",
              "    </tr>\n",
              "    <tr>\n",
              "      <th>75%</th>\n",
              "      <td>40.000000</td>\n",
              "      <td>209.000000</td>\n",
              "      <td>5.348837</td>\n",
              "      <td>5.000000</td>\n",
              "    </tr>\n",
              "    <tr>\n",
              "      <th>max</th>\n",
              "      <td>3739.000000</td>\n",
              "      <td>19323.000000</td>\n",
              "      <td>47.000000</td>\n",
              "      <td>5.000000</td>\n",
              "    </tr>\n",
              "  </tbody>\n",
              "</table>\n",
              "</div>\n",
              "      <button class=\"colab-df-convert\" onclick=\"convertToInteractive('df-ad76311d-39f4-418a-995c-8bc13af9d1b1')\"\n",
              "              title=\"Convert this dataframe to an interactive table.\"\n",
              "              style=\"display:none;\">\n",
              "        \n",
              "  <svg xmlns=\"http://www.w3.org/2000/svg\" height=\"24px\"viewBox=\"0 0 24 24\"\n",
              "       width=\"24px\">\n",
              "    <path d=\"M0 0h24v24H0V0z\" fill=\"none\"/>\n",
              "    <path d=\"M18.56 5.44l.94 2.06.94-2.06 2.06-.94-2.06-.94-.94-2.06-.94 2.06-2.06.94zm-11 1L8.5 8.5l.94-2.06 2.06-.94-2.06-.94L8.5 2.5l-.94 2.06-2.06.94zm10 10l.94 2.06.94-2.06 2.06-.94-2.06-.94-.94-2.06-.94 2.06-2.06.94z\"/><path d=\"M17.41 7.96l-1.37-1.37c-.4-.4-.92-.59-1.43-.59-.52 0-1.04.2-1.43.59L10.3 9.45l-7.72 7.72c-.78.78-.78 2.05 0 2.83L4 21.41c.39.39.9.59 1.41.59.51 0 1.02-.2 1.41-.59l7.78-7.78 2.81-2.81c.8-.78.8-2.07 0-2.86zM5.41 20L4 18.59l7.72-7.72 1.47 1.35L5.41 20z\"/>\n",
              "  </svg>\n",
              "      </button>\n",
              "      \n",
              "  <style>\n",
              "    .colab-df-container {\n",
              "      display:flex;\n",
              "      flex-wrap:wrap;\n",
              "      gap: 12px;\n",
              "    }\n",
              "\n",
              "    .colab-df-convert {\n",
              "      background-color: #E8F0FE;\n",
              "      border: none;\n",
              "      border-radius: 50%;\n",
              "      cursor: pointer;\n",
              "      display: none;\n",
              "      fill: #1967D2;\n",
              "      height: 32px;\n",
              "      padding: 0 0 0 0;\n",
              "      width: 32px;\n",
              "    }\n",
              "\n",
              "    .colab-df-convert:hover {\n",
              "      background-color: #E2EBFA;\n",
              "      box-shadow: 0px 1px 2px rgba(60, 64, 67, 0.3), 0px 1px 3px 1px rgba(60, 64, 67, 0.15);\n",
              "      fill: #174EA6;\n",
              "    }\n",
              "\n",
              "    [theme=dark] .colab-df-convert {\n",
              "      background-color: #3B4455;\n",
              "      fill: #D2E3FC;\n",
              "    }\n",
              "\n",
              "    [theme=dark] .colab-df-convert:hover {\n",
              "      background-color: #434B5C;\n",
              "      box-shadow: 0px 1px 3px 1px rgba(0, 0, 0, 0.15);\n",
              "      filter: drop-shadow(0px 1px 2px rgba(0, 0, 0, 0.3));\n",
              "      fill: #FFFFFF;\n",
              "    }\n",
              "  </style>\n",
              "\n",
              "      <script>\n",
              "        const buttonEl =\n",
              "          document.querySelector('#df-ad76311d-39f4-418a-995c-8bc13af9d1b1 button.colab-df-convert');\n",
              "        buttonEl.style.display =\n",
              "          google.colab.kernel.accessAllowed ? 'block' : 'none';\n",
              "\n",
              "        async function convertToInteractive(key) {\n",
              "          const element = document.querySelector('#df-ad76311d-39f4-418a-995c-8bc13af9d1b1');\n",
              "          const dataTable =\n",
              "            await google.colab.kernel.invokeFunction('convertToInteractive',\n",
              "                                                     [key], {});\n",
              "          if (!dataTable) return;\n",
              "\n",
              "          const docLinkHtml = 'Like what you see? Visit the ' +\n",
              "            '<a target=\"_blank\" href=https://colab.research.google.com/notebooks/data_table.ipynb>data table notebook</a>'\n",
              "            + ' to learn more about interactive tables.';\n",
              "          element.innerHTML = '';\n",
              "          dataTable['output_type'] = 'display_data';\n",
              "          await google.colab.output.renderOutput(dataTable, element);\n",
              "          const docLink = document.createElement('div');\n",
              "          docLink.innerHTML = docLinkHtml;\n",
              "          element.appendChild(docLink);\n",
              "        }\n",
              "      </script>\n",
              "    </div>\n",
              "  </div>\n",
              "  "
            ]
          },
          "metadata": {},
          "execution_count": 85
        }
      ],
      "id": "L7TUMRMI_RHR"
    },
    {
      "cell_type": "code",
      "execution_count": 96,
      "metadata": {
        "colab": {
          "base_uri": "https://localhost:8080/"
        },
        "id": "7ZWFuzBXRiU9",
        "outputId": "7fe29162-2cf9-4d1e-b55c-95187cd5beb0"
      },
      "outputs": [
        {
          "output_type": "stream",
          "name": "stderr",
          "text": [
            "[nltk_data] Downloading collection 'all'\n",
            "[nltk_data]    | \n",
            "[nltk_data]    | Downloading package abc to /root/nltk_data...\n",
            "[nltk_data]    |   Package abc is already up-to-date!\n",
            "[nltk_data]    | Downloading package alpino to /root/nltk_data...\n",
            "[nltk_data]    |   Package alpino is already up-to-date!\n",
            "[nltk_data]    | Downloading package averaged_perceptron_tagger to\n",
            "[nltk_data]    |     /root/nltk_data...\n",
            "[nltk_data]    |   Package averaged_perceptron_tagger is already up-\n",
            "[nltk_data]    |       to-date!\n",
            "[nltk_data]    | Downloading package averaged_perceptron_tagger_ru to\n",
            "[nltk_data]    |     /root/nltk_data...\n",
            "[nltk_data]    |   Package averaged_perceptron_tagger_ru is already\n",
            "[nltk_data]    |       up-to-date!\n",
            "[nltk_data]    | Downloading package basque_grammars to\n",
            "[nltk_data]    |     /root/nltk_data...\n",
            "[nltk_data]    |   Package basque_grammars is already up-to-date!\n",
            "[nltk_data]    | Downloading package bcp47 to /root/nltk_data...\n",
            "[nltk_data]    |   Package bcp47 is already up-to-date!\n",
            "[nltk_data]    | Downloading package biocreative_ppi to\n",
            "[nltk_data]    |     /root/nltk_data...\n",
            "[nltk_data]    |   Package biocreative_ppi is already up-to-date!\n",
            "[nltk_data]    | Downloading package bllip_wsj_no_aux to\n",
            "[nltk_data]    |     /root/nltk_data...\n",
            "[nltk_data]    |   Package bllip_wsj_no_aux is already up-to-date!\n",
            "[nltk_data]    | Downloading package book_grammars to\n",
            "[nltk_data]    |     /root/nltk_data...\n",
            "[nltk_data]    |   Package book_grammars is already up-to-date!\n",
            "[nltk_data]    | Downloading package brown to /root/nltk_data...\n",
            "[nltk_data]    |   Package brown is already up-to-date!\n",
            "[nltk_data]    | Downloading package brown_tei to /root/nltk_data...\n",
            "[nltk_data]    |   Package brown_tei is already up-to-date!\n",
            "[nltk_data]    | Downloading package cess_cat to /root/nltk_data...\n",
            "[nltk_data]    |   Package cess_cat is already up-to-date!\n",
            "[nltk_data]    | Downloading package cess_esp to /root/nltk_data...\n",
            "[nltk_data]    |   Package cess_esp is already up-to-date!\n",
            "[nltk_data]    | Downloading package chat80 to /root/nltk_data...\n",
            "[nltk_data]    |   Package chat80 is already up-to-date!\n",
            "[nltk_data]    | Downloading package city_database to\n",
            "[nltk_data]    |     /root/nltk_data...\n",
            "[nltk_data]    |   Package city_database is already up-to-date!\n",
            "[nltk_data]    | Downloading package cmudict to /root/nltk_data...\n",
            "[nltk_data]    |   Package cmudict is already up-to-date!\n",
            "[nltk_data]    | Downloading package comparative_sentences to\n",
            "[nltk_data]    |     /root/nltk_data...\n",
            "[nltk_data]    |   Package comparative_sentences is already up-to-\n",
            "[nltk_data]    |       date!\n",
            "[nltk_data]    | Downloading package comtrans to /root/nltk_data...\n",
            "[nltk_data]    |   Package comtrans is already up-to-date!\n",
            "[nltk_data]    | Downloading package conll2000 to /root/nltk_data...\n",
            "[nltk_data]    |   Package conll2000 is already up-to-date!\n",
            "[nltk_data]    | Downloading package conll2002 to /root/nltk_data...\n",
            "[nltk_data]    |   Package conll2002 is already up-to-date!\n",
            "[nltk_data]    | Downloading package conll2007 to /root/nltk_data...\n",
            "[nltk_data]    |   Package conll2007 is already up-to-date!\n",
            "[nltk_data]    | Downloading package crubadan to /root/nltk_data...\n",
            "[nltk_data]    |   Package crubadan is already up-to-date!\n",
            "[nltk_data]    | Downloading package dependency_treebank to\n",
            "[nltk_data]    |     /root/nltk_data...\n",
            "[nltk_data]    |   Package dependency_treebank is already up-to-date!\n",
            "[nltk_data]    | Downloading package dolch to /root/nltk_data...\n",
            "[nltk_data]    |   Package dolch is already up-to-date!\n",
            "[nltk_data]    | Downloading package europarl_raw to\n",
            "[nltk_data]    |     /root/nltk_data...\n",
            "[nltk_data]    |   Package europarl_raw is already up-to-date!\n",
            "[nltk_data]    | Downloading package extended_omw to\n",
            "[nltk_data]    |     /root/nltk_data...\n",
            "[nltk_data]    |   Package extended_omw is already up-to-date!\n",
            "[nltk_data]    | Downloading package floresta to /root/nltk_data...\n",
            "[nltk_data]    |   Package floresta is already up-to-date!\n",
            "[nltk_data]    | Downloading package framenet_v15 to\n",
            "[nltk_data]    |     /root/nltk_data...\n",
            "[nltk_data]    |   Package framenet_v15 is already up-to-date!\n",
            "[nltk_data]    | Downloading package framenet_v17 to\n",
            "[nltk_data]    |     /root/nltk_data...\n",
            "[nltk_data]    |   Package framenet_v17 is already up-to-date!\n",
            "[nltk_data]    | Downloading package gazetteers to /root/nltk_data...\n",
            "[nltk_data]    |   Package gazetteers is already up-to-date!\n",
            "[nltk_data]    | Downloading package genesis to /root/nltk_data...\n",
            "[nltk_data]    |   Package genesis is already up-to-date!\n",
            "[nltk_data]    | Downloading package gutenberg to /root/nltk_data...\n",
            "[nltk_data]    |   Package gutenberg is already up-to-date!\n",
            "[nltk_data]    | Downloading package ieer to /root/nltk_data...\n",
            "[nltk_data]    |   Package ieer is already up-to-date!\n",
            "[nltk_data]    | Downloading package inaugural to /root/nltk_data...\n",
            "[nltk_data]    |   Package inaugural is already up-to-date!\n",
            "[nltk_data]    | Downloading package indian to /root/nltk_data...\n",
            "[nltk_data]    |   Package indian is already up-to-date!\n",
            "[nltk_data]    | Downloading package jeita to /root/nltk_data...\n",
            "[nltk_data]    |   Package jeita is already up-to-date!\n",
            "[nltk_data]    | Downloading package kimmo to /root/nltk_data...\n",
            "[nltk_data]    |   Package kimmo is already up-to-date!\n",
            "[nltk_data]    | Downloading package knbc to /root/nltk_data...\n",
            "[nltk_data]    |   Package knbc is already up-to-date!\n",
            "[nltk_data]    | Downloading package large_grammars to\n",
            "[nltk_data]    |     /root/nltk_data...\n",
            "[nltk_data]    |   Package large_grammars is already up-to-date!\n",
            "[nltk_data]    | Downloading package lin_thesaurus to\n",
            "[nltk_data]    |     /root/nltk_data...\n",
            "[nltk_data]    |   Package lin_thesaurus is already up-to-date!\n",
            "[nltk_data]    | Downloading package mac_morpho to /root/nltk_data...\n",
            "[nltk_data]    |   Package mac_morpho is already up-to-date!\n",
            "[nltk_data]    | Downloading package machado to /root/nltk_data...\n",
            "[nltk_data]    |   Package machado is already up-to-date!\n",
            "[nltk_data]    | Downloading package masc_tagged to /root/nltk_data...\n",
            "[nltk_data]    |   Package masc_tagged is already up-to-date!\n",
            "[nltk_data]    | Downloading package maxent_ne_chunker to\n",
            "[nltk_data]    |     /root/nltk_data...\n",
            "[nltk_data]    |   Package maxent_ne_chunker is already up-to-date!\n",
            "[nltk_data]    | Downloading package maxent_treebank_pos_tagger to\n",
            "[nltk_data]    |     /root/nltk_data...\n",
            "[nltk_data]    |   Package maxent_treebank_pos_tagger is already up-\n",
            "[nltk_data]    |       to-date!\n",
            "[nltk_data]    | Downloading package moses_sample to\n",
            "[nltk_data]    |     /root/nltk_data...\n",
            "[nltk_data]    |   Package moses_sample is already up-to-date!\n",
            "[nltk_data]    | Downloading package movie_reviews to\n",
            "[nltk_data]    |     /root/nltk_data...\n",
            "[nltk_data]    |   Package movie_reviews is already up-to-date!\n",
            "[nltk_data]    | Downloading package mte_teip5 to /root/nltk_data...\n",
            "[nltk_data]    |   Package mte_teip5 is already up-to-date!\n",
            "[nltk_data]    | Downloading package mwa_ppdb to /root/nltk_data...\n",
            "[nltk_data]    |   Package mwa_ppdb is already up-to-date!\n",
            "[nltk_data]    | Downloading package names to /root/nltk_data...\n",
            "[nltk_data]    |   Package names is already up-to-date!\n",
            "[nltk_data]    | Downloading package nombank.1.0 to /root/nltk_data...\n",
            "[nltk_data]    |   Package nombank.1.0 is already up-to-date!\n",
            "[nltk_data]    | Downloading package nonbreaking_prefixes to\n",
            "[nltk_data]    |     /root/nltk_data...\n",
            "[nltk_data]    |   Package nonbreaking_prefixes is already up-to-date!\n",
            "[nltk_data]    | Downloading package nps_chat to /root/nltk_data...\n",
            "[nltk_data]    |   Package nps_chat is already up-to-date!\n",
            "[nltk_data]    | Downloading package omw to /root/nltk_data...\n",
            "[nltk_data]    |   Package omw is already up-to-date!\n",
            "[nltk_data]    | Downloading package omw-1.4 to /root/nltk_data...\n",
            "[nltk_data]    |   Package omw-1.4 is already up-to-date!\n",
            "[nltk_data]    | Downloading package opinion_lexicon to\n",
            "[nltk_data]    |     /root/nltk_data...\n",
            "[nltk_data]    |   Package opinion_lexicon is already up-to-date!\n",
            "[nltk_data]    | Downloading package panlex_swadesh to\n",
            "[nltk_data]    |     /root/nltk_data...\n",
            "[nltk_data]    |   Package panlex_swadesh is already up-to-date!\n",
            "[nltk_data]    | Downloading package paradigms to /root/nltk_data...\n",
            "[nltk_data]    |   Package paradigms is already up-to-date!\n",
            "[nltk_data]    | Downloading package pe08 to /root/nltk_data...\n",
            "[nltk_data]    |   Package pe08 is already up-to-date!\n",
            "[nltk_data]    | Downloading package perluniprops to\n",
            "[nltk_data]    |     /root/nltk_data...\n",
            "[nltk_data]    |   Package perluniprops is already up-to-date!\n",
            "[nltk_data]    | Downloading package pil to /root/nltk_data...\n",
            "[nltk_data]    |   Package pil is already up-to-date!\n",
            "[nltk_data]    | Downloading package pl196x to /root/nltk_data...\n",
            "[nltk_data]    |   Package pl196x is already up-to-date!\n",
            "[nltk_data]    | Downloading package porter_test to /root/nltk_data...\n",
            "[nltk_data]    |   Package porter_test is already up-to-date!\n",
            "[nltk_data]    | Downloading package ppattach to /root/nltk_data...\n",
            "[nltk_data]    |   Package ppattach is already up-to-date!\n",
            "[nltk_data]    | Downloading package problem_reports to\n",
            "[nltk_data]    |     /root/nltk_data...\n",
            "[nltk_data]    |   Package problem_reports is already up-to-date!\n",
            "[nltk_data]    | Downloading package product_reviews_1 to\n",
            "[nltk_data]    |     /root/nltk_data...\n",
            "[nltk_data]    |   Package product_reviews_1 is already up-to-date!\n",
            "[nltk_data]    | Downloading package product_reviews_2 to\n",
            "[nltk_data]    |     /root/nltk_data...\n",
            "[nltk_data]    |   Package product_reviews_2 is already up-to-date!\n",
            "[nltk_data]    | Downloading package propbank to /root/nltk_data...\n",
            "[nltk_data]    |   Package propbank is already up-to-date!\n",
            "[nltk_data]    | Downloading package pros_cons to /root/nltk_data...\n",
            "[nltk_data]    |   Package pros_cons is already up-to-date!\n",
            "[nltk_data]    | Downloading package ptb to /root/nltk_data...\n",
            "[nltk_data]    |   Package ptb is already up-to-date!\n",
            "[nltk_data]    | Downloading package punkt to /root/nltk_data...\n",
            "[nltk_data]    |   Package punkt is already up-to-date!\n",
            "[nltk_data]    | Downloading package qc to /root/nltk_data...\n",
            "[nltk_data]    |   Package qc is already up-to-date!\n",
            "[nltk_data]    | Downloading package reuters to /root/nltk_data...\n",
            "[nltk_data]    |   Package reuters is already up-to-date!\n",
            "[nltk_data]    | Downloading package rslp to /root/nltk_data...\n",
            "[nltk_data]    |   Package rslp is already up-to-date!\n",
            "[nltk_data]    | Downloading package rte to /root/nltk_data...\n",
            "[nltk_data]    |   Package rte is already up-to-date!\n",
            "[nltk_data]    | Downloading package sample_grammars to\n",
            "[nltk_data]    |     /root/nltk_data...\n",
            "[nltk_data]    |   Package sample_grammars is already up-to-date!\n",
            "[nltk_data]    | Downloading package semcor to /root/nltk_data...\n",
            "[nltk_data]    |   Package semcor is already up-to-date!\n",
            "[nltk_data]    | Downloading package senseval to /root/nltk_data...\n",
            "[nltk_data]    |   Package senseval is already up-to-date!\n",
            "[nltk_data]    | Downloading package sentence_polarity to\n",
            "[nltk_data]    |     /root/nltk_data...\n",
            "[nltk_data]    |   Package sentence_polarity is already up-to-date!\n",
            "[nltk_data]    | Downloading package sentiwordnet to\n",
            "[nltk_data]    |     /root/nltk_data...\n",
            "[nltk_data]    |   Package sentiwordnet is already up-to-date!\n",
            "[nltk_data]    | Downloading package shakespeare to /root/nltk_data...\n",
            "[nltk_data]    |   Package shakespeare is already up-to-date!\n",
            "[nltk_data]    | Downloading package sinica_treebank to\n",
            "[nltk_data]    |     /root/nltk_data...\n",
            "[nltk_data]    |   Package sinica_treebank is already up-to-date!\n",
            "[nltk_data]    | Downloading package smultron to /root/nltk_data...\n",
            "[nltk_data]    |   Package smultron is already up-to-date!\n",
            "[nltk_data]    | Downloading package snowball_data to\n",
            "[nltk_data]    |     /root/nltk_data...\n",
            "[nltk_data]    |   Package snowball_data is already up-to-date!\n",
            "[nltk_data]    | Downloading package spanish_grammars to\n",
            "[nltk_data]    |     /root/nltk_data...\n",
            "[nltk_data]    |   Package spanish_grammars is already up-to-date!\n",
            "[nltk_data]    | Downloading package state_union to /root/nltk_data...\n",
            "[nltk_data]    |   Package state_union is already up-to-date!\n",
            "[nltk_data]    | Downloading package stopwords to /root/nltk_data...\n",
            "[nltk_data]    |   Package stopwords is already up-to-date!\n",
            "[nltk_data]    | Downloading package subjectivity to\n",
            "[nltk_data]    |     /root/nltk_data...\n",
            "[nltk_data]    |   Package subjectivity is already up-to-date!\n",
            "[nltk_data]    | Downloading package swadesh to /root/nltk_data...\n",
            "[nltk_data]    |   Package swadesh is already up-to-date!\n",
            "[nltk_data]    | Downloading package switchboard to /root/nltk_data...\n",
            "[nltk_data]    |   Package switchboard is already up-to-date!\n",
            "[nltk_data]    | Downloading package tagsets to /root/nltk_data...\n",
            "[nltk_data]    |   Package tagsets is already up-to-date!\n",
            "[nltk_data]    | Downloading package timit to /root/nltk_data...\n",
            "[nltk_data]    |   Package timit is already up-to-date!\n",
            "[nltk_data]    | Downloading package toolbox to /root/nltk_data...\n",
            "[nltk_data]    |   Package toolbox is already up-to-date!\n",
            "[nltk_data]    | Downloading package treebank to /root/nltk_data...\n",
            "[nltk_data]    |   Package treebank is already up-to-date!\n",
            "[nltk_data]    | Downloading package twitter_samples to\n",
            "[nltk_data]    |     /root/nltk_data...\n",
            "[nltk_data]    |   Package twitter_samples is already up-to-date!\n",
            "[nltk_data]    | Downloading package udhr to /root/nltk_data...\n",
            "[nltk_data]    |   Package udhr is already up-to-date!\n",
            "[nltk_data]    | Downloading package udhr2 to /root/nltk_data...\n",
            "[nltk_data]    |   Package udhr2 is already up-to-date!\n",
            "[nltk_data]    | Downloading package unicode_samples to\n",
            "[nltk_data]    |     /root/nltk_data...\n",
            "[nltk_data]    |   Package unicode_samples is already up-to-date!\n",
            "[nltk_data]    | Downloading package universal_tagset to\n",
            "[nltk_data]    |     /root/nltk_data...\n",
            "[nltk_data]    |   Package universal_tagset is already up-to-date!\n",
            "[nltk_data]    | Downloading package universal_treebanks_v20 to\n",
            "[nltk_data]    |     /root/nltk_data...\n",
            "[nltk_data]    |   Package universal_treebanks_v20 is already up-to-\n",
            "[nltk_data]    |       date!\n",
            "[nltk_data]    | Downloading package vader_lexicon to\n",
            "[nltk_data]    |     /root/nltk_data...\n",
            "[nltk_data]    |   Package vader_lexicon is already up-to-date!\n",
            "[nltk_data]    | Downloading package verbnet to /root/nltk_data...\n",
            "[nltk_data]    |   Package verbnet is already up-to-date!\n",
            "[nltk_data]    | Downloading package verbnet3 to /root/nltk_data...\n",
            "[nltk_data]    |   Package verbnet3 is already up-to-date!\n",
            "[nltk_data]    | Downloading package webtext to /root/nltk_data...\n",
            "[nltk_data]    |   Package webtext is already up-to-date!\n",
            "[nltk_data]    | Downloading package wmt15_eval to /root/nltk_data...\n",
            "[nltk_data]    |   Package wmt15_eval is already up-to-date!\n",
            "[nltk_data]    | Downloading package word2vec_sample to\n",
            "[nltk_data]    |     /root/nltk_data...\n",
            "[nltk_data]    |   Package word2vec_sample is already up-to-date!\n",
            "[nltk_data]    | Downloading package wordnet to /root/nltk_data...\n",
            "[nltk_data]    |   Package wordnet is already up-to-date!\n",
            "[nltk_data]    | Downloading package wordnet2021 to /root/nltk_data...\n",
            "[nltk_data]    |   Package wordnet2021 is already up-to-date!\n",
            "[nltk_data]    | Downloading package wordnet2022 to /root/nltk_data...\n",
            "[nltk_data]    |   Package wordnet2022 is already up-to-date!\n",
            "[nltk_data]    | Downloading package wordnet31 to /root/nltk_data...\n",
            "[nltk_data]    |   Package wordnet31 is already up-to-date!\n",
            "[nltk_data]    | Downloading package wordnet_ic to /root/nltk_data...\n",
            "[nltk_data]    |   Package wordnet_ic is already up-to-date!\n",
            "[nltk_data]    | Downloading package words to /root/nltk_data...\n",
            "[nltk_data]    |   Package words is already up-to-date!\n",
            "[nltk_data]    | Downloading package ycoe to /root/nltk_data...\n",
            "[nltk_data]    |   Package ycoe is already up-to-date!\n",
            "[nltk_data]    | \n",
            "[nltk_data]  Done downloading collection all\n"
          ]
        }
      ],
      "source": [
        "#creating a function for NLP methods; removal of stop words and puncations; lemmatization and tokenization\n",
        "\n",
        "#!pip install nltk \n",
        "import nltk\n",
        "from nltk.corpus import stopwords\n",
        "from nltk.tokenize import word_tokenize\n",
        "from nltk.stem import WordNetLemmatizer\n",
        "from nltk.tokenize import RegexpTokenizer\n",
        "\n",
        "nltk.download('all')\n",
        "\n",
        "lemmatizer = WordNetLemmatizer()\n",
        "\n",
        "stop_words = set(stopwords.words('english'))\n",
        "\n",
        "words = set(nltk.corpus.words.words())\n",
        "    \n",
        "def tokenization(text):\n",
        "    \n",
        "    text = text.lower()\n",
        "\n",
        "    #remove punctuation and transforming it into tokens\n",
        "    tokenizer = RegexpTokenizer(r'\\w+')\n",
        "    word_tokens = tokenizer.tokenize(text)\n",
        "    \n",
        "    #remove stop words\n",
        "    word_tokens2 = [w for w in word_tokens if not w.lower() in stop_words]\n",
        "    \n",
        "    #lemmatization \n",
        "    word_tokens4 = [lemmatizer.lemmatize(w, 'v') for w in word_tokens2 if not '' ]\n",
        "  \n",
        "    return(word_tokens4)"
      ],
      "id": "7ZWFuzBXRiU9"
    },
    {
      "cell_type": "code",
      "source": [
        "#example of newly created function\n",
        "\n",
        "tokenization('Eighty-seven miles to go, yet.  Onward!')"
      ],
      "metadata": {
        "colab": {
          "base_uri": "https://localhost:8080/"
        },
        "id": "dokptj6i_FzC",
        "outputId": "d44d0a9e-1b63-4ece-a9c7-92935b0b099b"
      },
      "id": "dokptj6i_FzC",
      "execution_count": 97,
      "outputs": [
        {
          "output_type": "execute_result",
          "data": {
            "text/plain": [
              "['eighty', 'seven', 'miles', 'go', 'yet', 'onward']"
            ]
          },
          "metadata": {},
          "execution_count": 97
        }
      ]
    },
    {
      "cell_type": "code",
      "execution_count": 98,
      "metadata": {
        "id": "9Vf0upiMSacv"
      },
      "outputs": [],
      "source": [
        "#applying it to the whole dataset; adding new column words in the dataset and storing it there\n",
        "\n",
        "df_review['words'] = df_review['review'].apply(lambda x : tokenization(x)) "
      ],
      "id": "9Vf0upiMSacv"
    },
    {
      "cell_type": "code",
      "execution_count": 99,
      "metadata": {
        "colab": {
          "base_uri": "https://localhost:8080/",
          "height": 424
        },
        "id": "canHmnhpWFjt",
        "outputId": "b4edb531-aca4-49d5-b5b3-0e5c83b41c7f"
      },
      "outputs": [
        {
          "output_type": "execute_result",
          "data": {
            "text/plain": [
              "                                                   review  totalwords  \\\n",
              "0       I've read this book already and I've got plans...          72   \n",
              "1                              Nicely written directions.           3   \n",
              "2                                                 love it           2   \n",
              "3       Good additional knitting reference to have ava...          44   \n",
              "4       A gazillion pattern stitches, lucidly explaine...          53   \n",
              "...                                                   ...         ...   \n",
              "332064  Great product. Received it super fast. Will be...          21   \n",
              "332065  I've hand repaired things for years with an ol...          61   \n",
              "332066  perfect for us to use with our awl....you will...          22   \n",
              "332067  Exactly what I needed for a small project that...          25   \n",
              "332068  I can't say it's an horrible product it just d...          69   \n",
              "\n",
              "        totalchar  worddensity  \\\n",
              "0             408     5.589041   \n",
              "1              26     6.500000   \n",
              "2               7     2.333333   \n",
              "3             236     5.244444   \n",
              "4             337     6.240741   \n",
              "...           ...          ...   \n",
              "332064        125     5.681818   \n",
              "332065        333     5.370968   \n",
              "332066        120     5.217391   \n",
              "332067        136     5.230769   \n",
              "332068        364     5.200000   \n",
              "\n",
              "                                                    words  rating  \n",
              "0       [read, book, already, get, plan, use, future, ...     5.0  \n",
              "1                             [nicely, write, directions]     5.0  \n",
              "2                                                  [love]     5.0  \n",
              "3       [good, additional, knit, reference, available,...     5.0  \n",
              "4       [gazillion, pattern, stitch, lucidly, explain,...     5.0  \n",
              "...                                                   ...     ...  \n",
              "332064  [great, product, receive, super, fast, use, sp...     5.0  \n",
              "332065  [hand, repair, things, years, old, sew, awl, f...     5.0  \n",
              "332066  [perfect, us, use, awl, need, heavy, duty, sew...     5.0  \n",
              "332067  [exactly, need, small, project, require, tiny,...     5.0  \n",
              "332068  [say, horrible, product, work, bring, mirror, ...     2.0  \n",
              "\n",
              "[332069 rows x 6 columns]"
            ],
            "text/html": [
              "\n",
              "  <div id=\"df-c02fa603-fb66-4a19-be9d-1cccb28fdf13\">\n",
              "    <div class=\"colab-df-container\">\n",
              "      <div>\n",
              "<style scoped>\n",
              "    .dataframe tbody tr th:only-of-type {\n",
              "        vertical-align: middle;\n",
              "    }\n",
              "\n",
              "    .dataframe tbody tr th {\n",
              "        vertical-align: top;\n",
              "    }\n",
              "\n",
              "    .dataframe thead th {\n",
              "        text-align: right;\n",
              "    }\n",
              "</style>\n",
              "<table border=\"1\" class=\"dataframe\">\n",
              "  <thead>\n",
              "    <tr style=\"text-align: right;\">\n",
              "      <th></th>\n",
              "      <th>review</th>\n",
              "      <th>totalwords</th>\n",
              "      <th>totalchar</th>\n",
              "      <th>worddensity</th>\n",
              "      <th>words</th>\n",
              "      <th>rating</th>\n",
              "    </tr>\n",
              "  </thead>\n",
              "  <tbody>\n",
              "    <tr>\n",
              "      <th>0</th>\n",
              "      <td>I've read this book already and I've got plans...</td>\n",
              "      <td>72</td>\n",
              "      <td>408</td>\n",
              "      <td>5.589041</td>\n",
              "      <td>[read, book, already, get, plan, use, future, ...</td>\n",
              "      <td>5.0</td>\n",
              "    </tr>\n",
              "    <tr>\n",
              "      <th>1</th>\n",
              "      <td>Nicely written directions.</td>\n",
              "      <td>3</td>\n",
              "      <td>26</td>\n",
              "      <td>6.500000</td>\n",
              "      <td>[nicely, write, directions]</td>\n",
              "      <td>5.0</td>\n",
              "    </tr>\n",
              "    <tr>\n",
              "      <th>2</th>\n",
              "      <td>love it</td>\n",
              "      <td>2</td>\n",
              "      <td>7</td>\n",
              "      <td>2.333333</td>\n",
              "      <td>[love]</td>\n",
              "      <td>5.0</td>\n",
              "    </tr>\n",
              "    <tr>\n",
              "      <th>3</th>\n",
              "      <td>Good additional knitting reference to have ava...</td>\n",
              "      <td>44</td>\n",
              "      <td>236</td>\n",
              "      <td>5.244444</td>\n",
              "      <td>[good, additional, knit, reference, available,...</td>\n",
              "      <td>5.0</td>\n",
              "    </tr>\n",
              "    <tr>\n",
              "      <th>4</th>\n",
              "      <td>A gazillion pattern stitches, lucidly explaine...</td>\n",
              "      <td>53</td>\n",
              "      <td>337</td>\n",
              "      <td>6.240741</td>\n",
              "      <td>[gazillion, pattern, stitch, lucidly, explain,...</td>\n",
              "      <td>5.0</td>\n",
              "    </tr>\n",
              "    <tr>\n",
              "      <th>...</th>\n",
              "      <td>...</td>\n",
              "      <td>...</td>\n",
              "      <td>...</td>\n",
              "      <td>...</td>\n",
              "      <td>...</td>\n",
              "      <td>...</td>\n",
              "    </tr>\n",
              "    <tr>\n",
              "      <th>332064</th>\n",
              "      <td>Great product. Received it super fast. Will be...</td>\n",
              "      <td>21</td>\n",
              "      <td>125</td>\n",
              "      <td>5.681818</td>\n",
              "      <td>[great, product, receive, super, fast, use, sp...</td>\n",
              "      <td>5.0</td>\n",
              "    </tr>\n",
              "    <tr>\n",
              "      <th>332065</th>\n",
              "      <td>I've hand repaired things for years with an ol...</td>\n",
              "      <td>61</td>\n",
              "      <td>333</td>\n",
              "      <td>5.370968</td>\n",
              "      <td>[hand, repair, things, years, old, sew, awl, f...</td>\n",
              "      <td>5.0</td>\n",
              "    </tr>\n",
              "    <tr>\n",
              "      <th>332066</th>\n",
              "      <td>perfect for us to use with our awl....you will...</td>\n",
              "      <td>22</td>\n",
              "      <td>120</td>\n",
              "      <td>5.217391</td>\n",
              "      <td>[perfect, us, use, awl, need, heavy, duty, sew...</td>\n",
              "      <td>5.0</td>\n",
              "    </tr>\n",
              "    <tr>\n",
              "      <th>332067</th>\n",
              "      <td>Exactly what I needed for a small project that...</td>\n",
              "      <td>25</td>\n",
              "      <td>136</td>\n",
              "      <td>5.230769</td>\n",
              "      <td>[exactly, need, small, project, require, tiny,...</td>\n",
              "      <td>5.0</td>\n",
              "    </tr>\n",
              "    <tr>\n",
              "      <th>332068</th>\n",
              "      <td>I can't say it's an horrible product it just d...</td>\n",
              "      <td>69</td>\n",
              "      <td>364</td>\n",
              "      <td>5.200000</td>\n",
              "      <td>[say, horrible, product, work, bring, mirror, ...</td>\n",
              "      <td>2.0</td>\n",
              "    </tr>\n",
              "  </tbody>\n",
              "</table>\n",
              "<p>332069 rows × 6 columns</p>\n",
              "</div>\n",
              "      <button class=\"colab-df-convert\" onclick=\"convertToInteractive('df-c02fa603-fb66-4a19-be9d-1cccb28fdf13')\"\n",
              "              title=\"Convert this dataframe to an interactive table.\"\n",
              "              style=\"display:none;\">\n",
              "        \n",
              "  <svg xmlns=\"http://www.w3.org/2000/svg\" height=\"24px\"viewBox=\"0 0 24 24\"\n",
              "       width=\"24px\">\n",
              "    <path d=\"M0 0h24v24H0V0z\" fill=\"none\"/>\n",
              "    <path d=\"M18.56 5.44l.94 2.06.94-2.06 2.06-.94-2.06-.94-.94-2.06-.94 2.06-2.06.94zm-11 1L8.5 8.5l.94-2.06 2.06-.94-2.06-.94L8.5 2.5l-.94 2.06-2.06.94zm10 10l.94 2.06.94-2.06 2.06-.94-2.06-.94-.94-2.06-.94 2.06-2.06.94z\"/><path d=\"M17.41 7.96l-1.37-1.37c-.4-.4-.92-.59-1.43-.59-.52 0-1.04.2-1.43.59L10.3 9.45l-7.72 7.72c-.78.78-.78 2.05 0 2.83L4 21.41c.39.39.9.59 1.41.59.51 0 1.02-.2 1.41-.59l7.78-7.78 2.81-2.81c.8-.78.8-2.07 0-2.86zM5.41 20L4 18.59l7.72-7.72 1.47 1.35L5.41 20z\"/>\n",
              "  </svg>\n",
              "      </button>\n",
              "      \n",
              "  <style>\n",
              "    .colab-df-container {\n",
              "      display:flex;\n",
              "      flex-wrap:wrap;\n",
              "      gap: 12px;\n",
              "    }\n",
              "\n",
              "    .colab-df-convert {\n",
              "      background-color: #E8F0FE;\n",
              "      border: none;\n",
              "      border-radius: 50%;\n",
              "      cursor: pointer;\n",
              "      display: none;\n",
              "      fill: #1967D2;\n",
              "      height: 32px;\n",
              "      padding: 0 0 0 0;\n",
              "      width: 32px;\n",
              "    }\n",
              "\n",
              "    .colab-df-convert:hover {\n",
              "      background-color: #E2EBFA;\n",
              "      box-shadow: 0px 1px 2px rgba(60, 64, 67, 0.3), 0px 1px 3px 1px rgba(60, 64, 67, 0.15);\n",
              "      fill: #174EA6;\n",
              "    }\n",
              "\n",
              "    [theme=dark] .colab-df-convert {\n",
              "      background-color: #3B4455;\n",
              "      fill: #D2E3FC;\n",
              "    }\n",
              "\n",
              "    [theme=dark] .colab-df-convert:hover {\n",
              "      background-color: #434B5C;\n",
              "      box-shadow: 0px 1px 3px 1px rgba(0, 0, 0, 0.15);\n",
              "      filter: drop-shadow(0px 1px 2px rgba(0, 0, 0, 0.3));\n",
              "      fill: #FFFFFF;\n",
              "    }\n",
              "  </style>\n",
              "\n",
              "      <script>\n",
              "        const buttonEl =\n",
              "          document.querySelector('#df-c02fa603-fb66-4a19-be9d-1cccb28fdf13 button.colab-df-convert');\n",
              "        buttonEl.style.display =\n",
              "          google.colab.kernel.accessAllowed ? 'block' : 'none';\n",
              "\n",
              "        async function convertToInteractive(key) {\n",
              "          const element = document.querySelector('#df-c02fa603-fb66-4a19-be9d-1cccb28fdf13');\n",
              "          const dataTable =\n",
              "            await google.colab.kernel.invokeFunction('convertToInteractive',\n",
              "                                                     [key], {});\n",
              "          if (!dataTable) return;\n",
              "\n",
              "          const docLinkHtml = 'Like what you see? Visit the ' +\n",
              "            '<a target=\"_blank\" href=https://colab.research.google.com/notebooks/data_table.ipynb>data table notebook</a>'\n",
              "            + ' to learn more about interactive tables.';\n",
              "          element.innerHTML = '';\n",
              "          dataTable['output_type'] = 'display_data';\n",
              "          await google.colab.output.renderOutput(dataTable, element);\n",
              "          const docLink = document.createElement('div');\n",
              "          docLink.innerHTML = docLinkHtml;\n",
              "          element.appendChild(docLink);\n",
              "        }\n",
              "      </script>\n",
              "    </div>\n",
              "  </div>\n",
              "  "
            ]
          },
          "metadata": {},
          "execution_count": 99
        }
      ],
      "source": [
        "#displaying the new dataset with new column words - column after NLP\n",
        "\n",
        "df_review"
      ],
      "id": "canHmnhpWFjt"
    },
    {
      "cell_type": "code",
      "execution_count": 102,
      "metadata": {
        "id": "AhzMa6FJjVEc"
      },
      "outputs": [],
      "source": [
        "#concatenating all words rows into one big text - we are left with one big text of words  \n",
        "\n",
        "all_reviews_raw = []\n",
        "all_reviews =[all_reviews_raw.extend(x) for x in df_review['words']]"
      ],
      "id": "AhzMa6FJjVEc"
    },
    {
      "cell_type": "code",
      "execution_count": 103,
      "metadata": {
        "colab": {
          "base_uri": "https://localhost:8080/"
        },
        "id": "77FkiIJ2ksVj",
        "outputId": "1caa9898-e912-43af-9f43-177aa2c673fb"
      },
      "outputs": [
        {
          "output_type": "execute_result",
          "data": {
            "text/plain": [
              "['read',\n",
              " 'book',\n",
              " 'already',\n",
              " 'get',\n",
              " 'plan',\n",
              " 'use',\n",
              " 'future',\n",
              " 'project',\n",
              " 'delight',\n",
              " 'pattern',\n",
              " 'advice',\n",
              " 'suggestions',\n",
              " 'good',\n",
              " 'would',\n",
              " 'expect',\n",
              " 'melissa',\n",
              " 'leapman',\n",
              " 'glad',\n",
              " 'buy',\n",
              " 'lifelong',\n",
              " 'addict',\n",
              " 'knitter',\n",
              " 'valuable',\n",
              " 'addition',\n",
              " 'already',\n",
              " 'good',\n",
              " 'size',\n",
              " 'book',\n",
              " 'collection',\n",
              " 'thank',\n",
              " 'melissa',\n",
              " 'special',\n",
              " 'knit',\n",
              " 'treat',\n",
              " 'nicely',\n",
              " 'write',\n",
              " 'directions',\n",
              " 'love',\n",
              " 'good',\n",
              " 'additional',\n",
              " 'knit',\n",
              " 'reference',\n",
              " 'available',\n",
              " 'electronic',\n",
              " 'format',\n",
              " 'like',\n",
              " 'easy',\n",
              " 'jump',\n",
              " 'one',\n",
              " 'bite',\n",
              " 'information',\n",
              " 'another',\n",
              " 'since',\n",
              " 'sure',\n",
              " 'link',\n",
              " 'topics',\n",
              " 'would',\n",
              " 'available',\n",
              " 'kindle',\n",
              " 'format',\n",
              " 'gazillion',\n",
              " 'pattern',\n",
              " 'stitch',\n",
              " 'lucidly',\n",
              " 'explain',\n",
              " 'illustrations',\n",
              " 'one',\n",
              " 'page',\n",
              " 'instructions',\n",
              " 'thorough',\n",
              " 'guide',\n",
              " 'basic',\n",
              " 'techniques',\n",
              " 'appendix',\n",
              " 'get',\n",
              " 'full',\n",
              " 'pattern',\n",
              " 'stitch',\n",
              " 'easily',\n",
              " 'adapt',\n",
              " 'straightforward',\n",
              " 'knit',\n",
              " 'project',\n",
              " 'straight',\n",
              " 'circular',\n",
              " 'needle',\n",
              " 'useful',\n",
              " 'book',\n",
              " 'ok',\n",
              " 'read',\n",
              " 'better',\n",
              " 'knit',\n",
              " 'book',\n",
              " 'best',\n",
              " 'knit',\n",
              " 'instruction',\n",
              " 'book',\n",
              " 'extensive',\n",
              " 'collection',\n",
              " 'book',\n",
              " 'craft',\n",
              " 'thank',\n",
              " 'much',\n",
              " 'book',\n",
              " 'serious',\n",
              " 'knit',\n",
              " 'instructions',\n",
              " 'complete',\n",
              " 'subtitle',\n",
              " 'specify',\n",
              " 'essential',\n",
              " 'collection',\n",
              " 'love',\n",
              " 'every',\n",
              " 'page',\n",
              " 'thank',\n",
              " 'well',\n",
              " 'do',\n",
              " 'collection',\n",
              " 'excellent',\n",
              " 'variety',\n",
              " 'easy',\n",
              " 'instructions',\n",
              " 'another',\n",
              " 'winner',\n",
              " 'leapman',\n",
              " 'love',\n",
              " 'pattern',\n",
              " 'book',\n",
              " 'make',\n",
              " 'scarf',\n",
              " 'one',\n",
              " 'pattern',\n",
              " 'good',\n",
              " 'selection',\n",
              " 'stitch',\n",
              " 'find',\n",
              " 'yarn',\n",
              " 'colour',\n",
              " 'make',\n",
              " 'pattern',\n",
              " 'difficult',\n",
              " 'see',\n",
              " 'picture',\n",
              " 'good',\n",
              " 'reference',\n",
              " 'book',\n",
              " 'knitters',\n",
              " 'contain',\n",
              " 'interest',\n",
              " 'stitch',\n",
              " 'super',\n",
              " 'useful',\n",
              " 'designers',\n",
              " 'felt',\n",
              " 'complement',\n",
              " 'vogue',\n",
              " 'stitchionary',\n",
              " 'well',\n",
              " 'lot',\n",
              " 'volumes',\n",
              " 'actually',\n",
              " 'like',\n",
              " 'even',\n",
              " 'one',\n",
              " 'better',\n",
              " 'overall',\n",
              " 'love',\n",
              " 'different',\n",
              " 'usual',\n",
              " 'square',\n",
              " 'love',\n",
              " 'book',\n",
              " 'disappoint',\n",
              " 'delivery',\n",
              " 'awesome',\n",
              " 'book',\n",
              " 'must',\n",
              " 'lot',\n",
              " 'stitch',\n",
              " 'easy',\n",
              " 'follow',\n",
              " 'along',\n",
              " 'well',\n",
              " 'write',\n",
              " 'write',\n",
              " 'perspective',\n",
              " 'knitter',\n",
              " 'author',\n",
              " 'fairly',\n",
              " 'experience',\n",
              " 'knitter',\n",
              " 'one',\n",
              " 'color',\n",
              " 'color',\n",
              " 'block',\n",
              " 'intarsia',\n",
              " 'vein',\n",
              " 'rather',\n",
              " 'fair',\n",
              " 'isle',\n",
              " 'maestro',\n",
              " 'love',\n",
              " 'best',\n",
              " 'stitch',\n",
              " 'guide',\n",
              " 'multitude',\n",
              " 'reversible',\n",
              " 'stitch',\n",
              " 'pattern',\n",
              " 'offer',\n",
              " 'show',\n",
              " 'reverse',\n",
              " 'obverse',\n",
              " 'knit',\n",
              " 'love',\n",
              " 'accumulate',\n",
              " 'guide',\n",
              " 'stitch',\n",
              " 'dictionaries',\n",
              " 'pattern',\n",
              " 'book',\n",
              " 'design',\n",
              " 'project',\n",
              " 'book',\n",
              " 'great',\n",
              " 'resource',\n",
              " 'find',\n",
              " 'always',\n",
              " 'adapt',\n",
              " 'knit',\n",
              " 'pattern',\n",
              " 'slightly',\n",
              " 'significantly',\n",
              " 'swap',\n",
              " 'cable',\n",
              " 'add',\n",
              " 'interest',\n",
              " 'border',\n",
              " 'knit',\n",
              " 'edge',\n",
              " 'body',\n",
              " 'time',\n",
              " 'give',\n",
              " 'enough',\n",
              " 'classic',\n",
              " 'stitch',\n",
              " 'satisfy',\n",
              " 'strength',\n",
              " 'fresh',\n",
              " 'twist',\n",
              " 'usual',\n",
              " 'entirely',\n",
              " 'new',\n",
              " 'least',\n",
              " 'options',\n",
              " 'textured',\n",
              " 'lace',\n",
              " 'cable',\n",
              " 'cross',\n",
              " 'stitch',\n",
              " 'slip',\n",
              " 'st',\n",
              " 'novelties',\n",
              " 'others',\n",
              " 'note',\n",
              " 'stitch',\n",
              " 'arrange',\n",
              " 'simplest',\n",
              " 'challenge',\n",
              " 'section',\n",
              " 'also',\n",
              " 'great',\n",
              " 'help',\n",
              " 'decide',\n",
              " 'much',\n",
              " 'sweat',\n",
              " 'tear',\n",
              " 'wiling',\n",
              " 'expend',\n",
              " 'also',\n",
              " 'frustrate',\n",
              " 'ways',\n",
              " 'many',\n",
              " 'book',\n",
              " 'guide',\n",
              " 'leapman',\n",
              " 'use',\n",
              " 'symbols',\n",
              " 'common',\n",
              " 'knit',\n",
              " 'magazines',\n",
              " 'book',\n",
              " 'knit',\n",
              " 'see',\n",
              " 'yay',\n",
              " 'one',\n",
              " 'peeve',\n",
              " 'designers',\n",
              " 'guidebooks',\n",
              " 'use',\n",
              " 'symbology',\n",
              " 'chart',\n",
              " 'various',\n",
              " 'stitch',\n",
              " 'alice',\n",
              " 'starmore',\n",
              " 'leap',\n",
              " 'mind',\n",
              " 'woman',\n",
              " 'live',\n",
              " 'private',\n",
              " 'idaho',\n",
              " 'fill',\n",
              " 'runic',\n",
              " 'symbols',\n",
              " 'translate',\n",
              " 'every',\n",
              " 'chart',\n",
              " 'cable',\n",
              " 'squiggles',\n",
              " 'symbols',\n",
              " 'familiar',\n",
              " 'get',\n",
              " 'thing',\n",
              " 'go',\n",
              " 'gorgeous',\n",
              " 'end',\n",
              " 'result',\n",
              " 'geez',\n",
              " 'concise',\n",
              " 'full',\n",
              " 'options',\n",
              " 'find',\n",
              " 'something',\n",
              " 'nifty',\n",
              " 'quickly',\n",
              " 'easily',\n",
              " 'love',\n",
              " 'browse',\n",
              " 'barbara',\n",
              " 'walker',\n",
              " 'stitch',\n",
              " 'book',\n",
              " 'sometimes',\n",
              " 'look',\n",
              " 'simple',\n",
              " 'option',\n",
              " 'want',\n",
              " 'spend',\n",
              " 'day',\n",
              " 'comb',\n",
              " 'umpteen',\n",
              " 'volumes',\n",
              " 'section',\n",
              " 'lace',\n",
              " 'k',\n",
              " 'p',\n",
              " 'cable',\n",
              " 'slip',\n",
              " 'st',\n",
              " 'panel',\n",
              " 'etc',\n",
              " 'wish',\n",
              " 'walker',\n",
              " 'would',\n",
              " 'compile',\n",
              " 'lace',\n",
              " 'cable',\n",
              " 'k',\n",
              " 'p',\n",
              " 'color',\n",
              " 'work',\n",
              " 'panel',\n",
              " 'etc',\n",
              " 'huge',\n",
              " 'section',\n",
              " 'one',\n",
              " 'encyclopedia',\n",
              " 'happen',\n",
              " 'new',\n",
              " 'go',\n",
              " 'fast',\n",
              " 'interest',\n",
              " 'ideas',\n",
              " 'enhance',\n",
              " 'knit',\n",
              " 'great',\n",
              " 'resource',\n",
              " 'traditional',\n",
              " 'knit',\n",
              " 'stitch',\n",
              " 'pattern',\n",
              " 'gansey',\n",
              " 'guernsey',\n",
              " 'perhaps',\n",
              " 'best',\n",
              " 'modern',\n",
              " 'classic',\n",
              " 'knit',\n",
              " 'love',\n",
              " 'use',\n",
              " 'time',\n",
              " 'love',\n",
              " 'fact',\n",
              " 'write',\n",
              " 'instructions',\n",
              " 'well',\n",
              " 'chart',\n",
              " 'stitch',\n",
              " 'photo',\n",
              " 'really',\n",
              " 'great',\n",
              " 'many',\n",
              " 'stitch',\n",
              " 'pattern',\n",
              " 'look',\n",
              " 'nice',\n",
              " 'wrong',\n",
              " 'side',\n",
              " 'right',\n",
              " 'side',\n",
              " 'stitch',\n",
              " 'author',\n",
              " 'put',\n",
              " 'symbol',\n",
              " 'easily',\n",
              " 'identify',\n",
              " 'also',\n",
              " 'include',\n",
              " 'photos',\n",
              " 'side',\n",
              " 'knit',\n",
              " 'swatch',\n",
              " 'show',\n",
              " 'differences',\n",
              " 'stitch',\n",
              " 'pattern',\n",
              " 'think',\n",
              " 'necessary',\n",
              " 'wrong',\n",
              " 'side',\n",
              " 'row',\n",
              " 'e',\n",
              " 'g',\n",
              " 'knit',\n",
              " 'way',\n",
              " 'across',\n",
              " 'purl',\n",
              " 'way',\n",
              " 'across',\n",
              " 'wrong',\n",
              " 'side',\n",
              " 'row',\n",
              " 'use',\n",
              " 'easy',\n",
              " 'symbol',\n",
              " 'quick',\n",
              " 'identification',\n",
              " 'one',\n",
              " 'thing',\n",
              " 'would',\n",
              " 'make',\n",
              " '5',\n",
              " 'star',\n",
              " 'book',\n",
              " 'opinion',\n",
              " 'would',\n",
              " 'sort',\n",
              " 'yardage',\n",
              " 'requirement',\n",
              " 'although',\n",
              " 'understand',\n",
              " 'use',\n",
              " 'weight',\n",
              " 'yarn',\n",
              " 'stitch',\n",
              " 'sample',\n",
              " 'swatches',\n",
              " 'knit',\n",
              " 'cascade',\n",
              " '220',\n",
              " 'yarn',\n",
              " 'provide',\n",
              " 'author',\n",
              " 'cascade',\n",
              " 'yarn',\n",
              " 'company',\n",
              " 'acknowledge',\n",
              " 'author',\n",
              " 'state',\n",
              " 'whether',\n",
              " 'superwash',\n",
              " 'version',\n",
              " 'cascade',\n",
              " '220',\n",
              " 'think',\n",
              " 'worst',\n",
              " 'weight',\n",
              " 'simply',\n",
              " 'put',\n",
              " 'something',\n",
              " 'like',\n",
              " '4',\n",
              " 'x',\n",
              " '4',\n",
              " 'swatch',\n",
              " 'stitch',\n",
              " 'use',\n",
              " '20',\n",
              " 'yards',\n",
              " 'yarn',\n",
              " 'would',\n",
              " 'helpful',\n",
              " 'information',\n",
              " 'get',\n",
              " 'good',\n",
              " 'ballpark',\n",
              " 'figure',\n",
              " 'much',\n",
              " 'dk',\n",
              " 'weight',\n",
              " 'yarn',\n",
              " 'example',\n",
              " 'would',\n",
              " 'need',\n",
              " 'baby',\n",
              " 'blanket',\n",
              " 'use',\n",
              " 'particular',\n",
              " 'stitch',\n",
              " 'obviously',\n",
              " 'necessary',\n",
              " 'helpful',\n",
              " 'stitch',\n",
              " 'diamond',\n",
              " 'openwork',\n",
              " 'panel',\n",
              " 'stitch',\n",
              " 'might',\n",
              " 'use',\n",
              " 'entire',\n",
              " 'body',\n",
              " 'baby',\n",
              " 'blanket',\n",
              " 'sevignac',\n",
              " 'lace',\n",
              " 'graceful',\n",
              " 'leave',\n",
              " 'would',\n",
              " 'incredibly',\n",
              " 'helpful',\n",
              " 'arrive',\n",
              " 'promise',\n",
              " 'already',\n",
              " 'paper',\n",
              " 'book',\n",
              " 'stitch',\n",
              " 'pattern',\n",
              " 'suck',\n",
              " 'hard',\n",
              " 'desperate',\n",
              " 'enough',\n",
              " 'turn',\n",
              " 'digital',\n",
              " 'book',\n",
              " 'one',\n",
              " 'really',\n",
              " 'good',\n",
              " 'instructions',\n",
              " 'pretty',\n",
              " 'clear',\n",
              " 'chart',\n",
              " 'write',\n",
              " 'instructions',\n",
              " 'pattern',\n",
              " 'beautiful',\n",
              " 'try',\n",
              " 'knit',\n",
              " 'sweater',\n",
              " 'cat',\n",
              " 'get',\n",
              " 'cold',\n",
              " 'often',\n",
              " 'wear',\n",
              " 'something',\n",
              " 'warm',\n",
              " 'beginner',\n",
              " 'knitter',\n",
              " 'purchase',\n",
              " 'book',\n",
              " 'completely',\n",
              " 'butcher',\n",
              " '4',\n",
              " 'pattern',\n",
              " 'either',\n",
              " 'understand',\n",
              " 'complicate',\n",
              " 'detail',\n",
              " 'enough',\n",
              " 'instructions',\n",
              " 'book',\n",
              " 'pattern',\n",
              " 'go',\n",
              " 'wrong',\n",
              " 'use',\n",
              " 'melissa',\n",
              " 'book',\n",
              " 'knit',\n",
              " 'sweater',\n",
              " 'one',\n",
              " 'two',\n",
              " 'beautiful',\n",
              " 'pattern',\n",
              " 'feel',\n",
              " 'like',\n",
              " 'book',\n",
              " 'gonna',\n",
              " 'go',\n",
              " 'knit',\n",
              " 'pattern',\n",
              " 'long',\n",
              " 'knit',\n",
              " 'stitch',\n",
              " 'pattern',\n",
              " 'handbook',\n",
              " 'excellent',\n",
              " 'stitch',\n",
              " 'dictionary',\n",
              " 'stitch',\n",
              " 'dictionaries',\n",
              " 'first',\n",
              " 'one',\n",
              " 'buy',\n",
              " 'show',\n",
              " 'public',\n",
              " 'side',\n",
              " 'private',\n",
              " 'side',\n",
              " 'many',\n",
              " 'stitch',\n",
              " 'pattern',\n",
              " 'melissa',\n",
              " 'provide',\n",
              " 'text',\n",
              " 'chart',\n",
              " 'representations',\n",
              " 'stitch',\n",
              " 'pattern',\n",
              " 'buy',\n",
              " 'many',\n",
              " 'craft',\n",
              " 'e',\n",
              " 'book',\n",
              " 'find',\n",
              " 'cumbersome',\n",
              " 'inconvenient',\n",
              " 'work',\n",
              " 'however',\n",
              " 'author',\n",
              " 'provide',\n",
              " 'link',\n",
              " 'pdfs',\n",
              " 'stitch',\n",
              " 'pattern',\n",
              " 'individually',\n",
              " 'knitter',\n",
              " 'print',\n",
              " 'paper',\n",
              " 'version',\n",
              " 'work',\n",
              " 'yes',\n",
              " 'agree',\n",
              " 'pattern',\n",
              " 'common',\n",
              " 'many',\n",
              " 'stitch',\n",
              " 'dictionaries',\n",
              " 'good',\n",
              " 'many',\n",
              " 'unique',\n",
              " 'book',\n",
              " 'appendices',\n",
              " 'book',\n",
              " 'helpful',\n",
              " 'like',\n",
              " 'book',\n",
              " 'much',\n",
              " 'beautifully',\n",
              " 'do',\n",
              " 'book',\n",
              " 'wonderful',\n",
              " 'photos',\n",
              " 'stitch',\n",
              " 'great',\n",
              " 'instructions',\n",
              " 'lot',\n",
              " 'fun',\n",
              " 'see',\n",
              " 'great',\n",
              " 'pattern',\n",
              " 'great',\n",
              " 'book',\n",
              " 'beginners',\n",
              " 'experts',\n",
              " 'great',\n",
              " 'book',\n",
              " 'index',\n",
              " 'terrible',\n",
              " 'write',\n",
              " 'high',\n",
              " 'light',\n",
              " 'cross',\n",
              " 'ref',\n",
              " 'info',\n",
              " 'book',\n",
              " 'great',\n",
              " 'much',\n",
              " 'lace',\n",
              " 'like',\n",
              " 'otherwise',\n",
              " 'superb',\n",
              " 'book',\n",
              " 'traditional',\n",
              " 'new',\n",
              " 'knit',\n",
              " 'stitch',\n",
              " 'pattern',\n",
              " 'bud',\n",
              " 'knitwear',\n",
              " 'designer',\n",
              " 'professional',\n",
              " 'love',\n",
              " 'love',\n",
              " 'melissa',\n",
              " 'leapman',\n",
              " 'book',\n",
              " 'another',\n",
              " 'good',\n",
              " 'one',\n",
              " 'great',\n",
              " 'book',\n",
              " 'really',\n",
              " 'glad',\n",
              " 'get',\n",
              " 'lot',\n",
              " 'great',\n",
              " 'stiches',\n",
              " 'clear',\n",
              " 'instructions',\n",
              " 'recommend',\n",
              " 'anyone',\n",
              " 'knit',\n",
              " 'go',\n",
              " 'book',\n",
              " 'believe',\n",
              " 'many',\n",
              " 'pattern',\n",
              " 'book',\n",
              " 'never',\n",
              " 'see',\n",
              " 'believe',\n",
              " 'buy',\n",
              " 'lot',\n",
              " 'knit',\n",
              " 'book',\n",
              " 'last',\n",
              " 'five',\n",
              " 'years',\n",
              " 'ever',\n",
              " 'since',\n",
              " 'learn',\n",
              " 'knit',\n",
              " 'know',\n",
              " 'pattern',\n",
              " 'make',\n",
              " 'first',\n",
              " 'purchase',\n",
              " 'kindle',\n",
              " 'edition',\n",
              " 'incredibly',\n",
              " 'handy',\n",
              " 'particularly',\n",
              " 'travel',\n",
              " 'melissa',\n",
              " 'leapman',\n",
              " 'always',\n",
              " 'dependable',\n",
              " 'provide',\n",
              " 'wonderful',\n",
              " 'necessities',\n",
              " 'knitters',\n",
              " 'great',\n",
              " 'book',\n",
              " 'find',\n",
              " 'book',\n",
              " 'helpful',\n",
              " 'guide',\n",
              " 'try',\n",
              " 'different',\n",
              " 'stitch',\n",
              " 'pattern',\n",
              " 'excite',\n",
              " 'mix',\n",
              " 'match',\n",
              " 'book',\n",
              " 'doctor',\n",
              " 'order',\n",
              " 'wife',\n",
              " 'love',\n",
              " 'give',\n",
              " 'margaret',\n",
              " 'clear',\n",
              " 'easy',\n",
              " 'instruction',\n",
              " 'knit',\n",
              " 'pattens',\n",
              " 'hard',\n",
              " 'back',\n",
              " 'also',\n",
              " 'ebook',\n",
              " 'fantastic',\n",
              " 'knitters',\n",
              " 'enjoy',\n",
              " 'great',\n",
              " 'addition',\n",
              " 'knitter',\n",
              " 'library',\n",
              " 'fabulous',\n",
              " 'great',\n",
              " 'selection',\n",
              " 'stitch',\n",
              " 'variations',\n",
              " 'well',\n",
              " 'explain',\n",
              " 'set',\n",
              " 'well',\n",
              " 'organize',\n",
              " 'helpful',\n",
              " 'head',\n",
              " 'clear',\n",
              " 'directions',\n",
              " 'good',\n",
              " 'illustrations',\n",
              " 'book',\n",
              " 'want',\n",
              " 'basics',\n",
              " 'number',\n",
              " 'familiar',\n",
              " 'pattern',\n",
              " 'focus',\n",
              " 'seem',\n",
              " 'take',\n",
              " 'us',\n",
              " 'next',\n",
              " 'level',\n",
              " 'creativity',\n",
              " 'include',\n",
              " 'chart',\n",
              " 'well',\n",
              " 'write',\n",
              " 'instructions',\n",
              " 'good',\n",
              " 'resource',\n",
              " 'great',\n",
              " 'book',\n",
              " 'look',\n",
              " 'pattern',\n",
              " 'easy',\n",
              " 'follow',\n",
              " 'great',\n",
              " 'explanation',\n",
              " 'con',\n",
              " 'book',\n",
              " 'nothing',\n",
              " 'unexpected',\n",
              " 'pattern',\n",
              " 'see',\n",
              " 'similar',\n",
              " 'pattern',\n",
              " 'others',\n",
              " 'book',\n",
              " 'little',\n",
              " 'dissapointment',\n",
              " 'pattern',\n",
              " 'book',\n",
              " 'great',\n",
              " 'recomend',\n",
              " 'book',\n",
              " 'begginers',\n",
              " 'great',\n",
              " 'resource',\n",
              " 'book',\n",
              " 'lot',\n",
              " 'stitch',\n",
              " 'pattern',\n",
              " 'see',\n",
              " 'book',\n",
              " 'would',\n",
              " 'recommend',\n",
              " 'look',\n",
              " 'ordinary',\n",
              " 'stitch',\n",
              " 'pattern',\n",
              " 'oh',\n",
              " 'goodness',\n",
              " 'disappoint',\n",
              " 'get',\n",
              " 'book',\n",
              " 'home',\n",
              " 'many',\n",
              " 'varieties',\n",
              " 'stitch',\n",
              " 'handbook',\n",
              " 'put',\n",
              " 'stitch',\n",
              " 'categories',\n",
              " 'within',\n",
              " 'category',\n",
              " 'stitch',\n",
              " 'arrange',\n",
              " 'order',\n",
              " 'difficulty',\n",
              " 'easiest',\n",
              " 'list',\n",
              " 'first',\n",
              " 'follow',\n",
              " 'ones',\n",
              " 'require',\n",
              " 'bite',\n",
              " 'concentration',\n",
              " 'jam',\n",
              " 'pack',\n",
              " 'useful',\n",
              " 'information',\n",
              " 'tip',\n",
              " 'well',\n",
              " 'consider',\n",
              " 'pattern',\n",
              " 'handbook',\n",
              " 'great',\n",
              " 'addition',\n",
              " 'ever',\n",
              " 'grow',\n",
              " 'collection',\n",
              " 'knittery',\n",
              " 'book',\n",
              " 'fine',\n",
              " 'workshop',\n",
              " 'manual',\n",
              " 'get',\n",
              " 'needle',\n",
              " 'work',\n",
              " 'new',\n",
              " 'stitch',\n",
              " 'technique',\n",
              " 'accomplish',\n",
              " 'magic',\n",
              " 'lot',\n",
              " 'stitch',\n",
              " 'dictionaries',\n",
              " 'every',\n",
              " 'serious',\n",
              " 'knitter',\n",
              " 'ought',\n",
              " 'several',\n",
              " 'include',\n",
              " 'one',\n",
              " 'leapman',\n",
              " 'choose',\n",
              " 'wide',\n",
              " 'variety',\n",
              " 'stitch',\n",
              " 'simple',\n",
              " 'complex',\n",
              " 'old',\n",
              " 'favorites',\n",
              " 'excite',\n",
              " 'new',\n",
              " 'ones',\n",
              " 'set',\n",
              " 'line',\n",
              " 'line',\n",
              " 'instruction',\n",
              " 'chart',\n",
              " 'good',\n",
              " 'quality',\n",
              " 'color',\n",
              " 'photograph',\n",
              " 'stitch',\n",
              " 'make',\n",
              " 'knit',\n",
              " 'stitch',\n",
              " 'must',\n",
              " 'many',\n",
              " 'pattern',\n",
              " 'photos',\n",
              " 'show',\n",
              " 'right',\n",
              " 'side',\n",
              " ...]"
            ]
          },
          "metadata": {},
          "execution_count": 103
        }
      ],
      "source": [
        "all_reviews_raw"
      ],
      "id": "77FkiIJ2ksVj"
    },
    {
      "cell_type": "code",
      "execution_count": 104,
      "metadata": {
        "id": "tvefNmzckyYb",
        "colab": {
          "base_uri": "https://localhost:8080/"
        },
        "outputId": "3ed845a0-453f-4939-97d7-697edbc75ca9"
      },
      "outputs": [
        {
          "output_type": "execute_result",
          "data": {
            "text/plain": [
              "48929"
            ]
          },
          "metadata": {},
          "execution_count": 104
        }
      ],
      "source": [
        "#printing number of only unique words from the all_reviews_raw - big text\n",
        "\n",
        "len(set(all_reviews_raw))"
      ],
      "id": "tvefNmzckyYb"
    },
    {
      "cell_type": "code",
      "source": [
        "#finding most occuring words from all text in the dataset\n",
        "\n",
        "from nltk.text import FreqDist\n",
        "review_fd = FreqDist(all_reviews_raw)\n",
        "review_fd"
      ],
      "metadata": {
        "colab": {
          "base_uri": "https://localhost:8080/"
        },
        "id": "7fNqLZn1pKc8",
        "outputId": "2042ac2c-8430-4379-d174-2277d072fbd7"
      },
      "id": "7fNqLZn1pKc8",
      "execution_count": 105,
      "outputs": [
        {
          "output_type": "execute_result",
          "data": {
            "text/plain": [
              "FreqDist({'use': 121266, 'great': 83855, 'work': 77382, 'make': 57994, 'get': 51705, 'love': 51241, 'good': 50459, 'color': 49651, 'buy': 45875, 'product': 43869, ...})"
            ]
          },
          "metadata": {},
          "execution_count": 105
        }
      ]
    },
    {
      "cell_type": "code",
      "source": [
        "#plot of 10 common words from whole dataset\n",
        "\n",
        "review_fd.plot(10) "
      ],
      "metadata": {
        "colab": {
          "base_uri": "https://localhost:8080/",
          "height": 506
        },
        "id": "xIl8BzBZpT6k",
        "outputId": "ea1cf289-6623-49b3-ed63-fe01f4530a01"
      },
      "id": "xIl8BzBZpT6k",
      "execution_count": 139,
      "outputs": [
        {
          "output_type": "display_data",
          "data": {
            "text/plain": [
              "<Figure size 640x480 with 1 Axes>"
            ],
            "image/png": "[encoded data removed]"
          },
          "metadata": {}
        },
        {
          "output_type": "execute_result",
          "data": {
            "text/plain": [
              "<Axes: xlabel='Samples', ylabel='Counts'>"
            ]
          },
          "metadata": {},
          "execution_count": 139
        }
      ]
    },
    {
      "cell_type": "code",
      "source": [
        "#finding most occuring words from review text in the dataset that are rated with 1.0\n",
        "\n",
        "all_reviews_1_raw = []\n",
        "df_1 = df_review[df_review['rating'] == 1]\n",
        "[all_reviews_1_raw.extend(x) for x in df_1['words']]\n",
        "\n",
        "#plot of 10 common words from whole dataset that are rated with 1.0\n",
        "review_1_fd = FreqDist(all_reviews_1_raw)\n",
        "review_1_fd.plot(10)"
      ],
      "metadata": {
        "colab": {
          "base_uri": "https://localhost:8080/",
          "height": 506
        },
        "id": "-kp7loAXxh-e",
        "outputId": "128fe1ab-804e-4bc6-a0ac-e087f510ca0c"
      },
      "id": "-kp7loAXxh-e",
      "execution_count": 124,
      "outputs": [
        {
          "output_type": "display_data",
          "data": {
            "text/plain": [
              "<Figure size 640x480 with 1 Axes>"
            ],
            "image/png": "[encoded data removed]"
          },
          "metadata": {}
        },
        {
          "output_type": "execute_result",
          "data": {
            "text/plain": [
              "<Axes: xlabel='Samples', ylabel='Counts'>"
            ]
          },
          "metadata": {},
          "execution_count": 124
        }
      ]
    },
    {
      "cell_type": "code",
      "source": [
        "#printing most occuring words from review text in the dataset that are rated with 1.0\n",
        "\n",
        "review_1_fd"
      ],
      "metadata": {
        "colab": {
          "base_uri": "https://localhost:8080/"
        },
        "id": "LeW64fPLXLq8",
        "outputId": "65d11509-30ca-4baf-ef15-55cbfdc22c84"
      },
      "id": "LeW64fPLXLq8",
      "execution_count": 140,
      "outputs": [
        {
          "output_type": "execute_result",
          "data": {
            "text/plain": [
              "FreqDist({'use': 8239, 'get': 5906, 'work': 5285, 'buy': 5232, 'product': 4761, 'one': 4623, 'would': 4515, 'make': 3988, 'time': 3387, 'try': 3363, ...})"
            ]
          },
          "metadata": {},
          "execution_count": 140
        }
      ]
    },
    {
      "cell_type": "code",
      "source": [
        "#finding most occuring words from review text in the dataset that are rated with 2.0\n",
        "\n",
        "all_reviews_2_raw = []\n",
        "df_2 = df_review[df_review['rating'] == 2]\n",
        "[all_reviews_2_raw.extend(x) for x in df_2['words']]\n",
        "\n",
        "#ploting most occuring words from review text in the dataset that are rated with 2.0\n",
        "\n",
        "from nltk.text import FreqDist\n",
        "review_2_fd = FreqDist(all_reviews_2_raw)\n",
        "review_2_fd.plot(10) "
      ],
      "metadata": {
        "colab": {
          "base_uri": "https://localhost:8080/",
          "height": 506
        },
        "id": "03GJjikw0cot",
        "outputId": "ea5e05ca-cab0-481a-836c-3853613cf79f"
      },
      "id": "03GJjikw0cot",
      "execution_count": 141,
      "outputs": [
        {
          "output_type": "display_data",
          "data": {
            "text/plain": [
              "<Figure size 640x480 with 1 Axes>"
            ],
            "image/png": "[encoded data removed]"
          },
          "metadata": {}
        },
        {
          "output_type": "execute_result",
          "data": {
            "text/plain": [
              "<Axes: xlabel='Samples', ylabel='Counts'>"
            ]
          },
          "metadata": {},
          "execution_count": 141
        }
      ]
    },
    {
      "cell_type": "code",
      "source": [
        "#printing most occuring words from review text in the dataset that are rated with 2.0\n",
        "\n",
        "review_2_fd"
      ],
      "metadata": {
        "colab": {
          "base_uri": "https://localhost:8080/"
        },
        "id": "BoMFneOyYOeW",
        "outputId": "e95bb56b-e4e6-400c-c609-241d4b562e47"
      },
      "id": "BoMFneOyYOeW",
      "execution_count": 142,
      "outputs": [
        {
          "output_type": "execute_result",
          "data": {
            "text/plain": [
              "FreqDist({'use': 5746, 'get': 3606, 'work': 3291, 'would': 2941, 'one': 2735, 'make': 2679, 'buy': 2575, 'like': 2447, 'color': 2376, 'product': 2024, ...})"
            ]
          },
          "metadata": {},
          "execution_count": 142
        }
      ]
    },
    {
      "cell_type": "code",
      "source": [
        "#finding most occuring words from review text in the dataset that are rated with 3.0\n",
        "\n",
        "all_reviews_3_raw = []\n",
        "df_3 = df_review[df_review['rating'] == 3]\n",
        "all_reviews_3 =[all_reviews_3_raw.extend(x) for x in df_3['words']]\n",
        "\n",
        "#ploting most occuring words from review text in the dataset that are rated with 3.0\n",
        "\n",
        "review_3_fd = FreqDist(all_reviews_3_raw)\n",
        "review_3_fd.plot(10) "
      ],
      "metadata": {
        "colab": {
          "base_uri": "https://localhost:8080/",
          "height": 494
        },
        "id": "792Fw4mY01W6",
        "outputId": "f368b4ac-b29a-49ee-da9a-0f4d12ba374b"
      },
      "id": "792Fw4mY01W6",
      "execution_count": 143,
      "outputs": [
        {
          "output_type": "display_data",
          "data": {
            "text/plain": [
              "<Figure size 640x480 with 1 Axes>"
            ],
            "image/png": "[encoded data removed]"
          },
          "metadata": {}
        },
        {
          "output_type": "execute_result",
          "data": {
            "text/plain": [
              "<Axes: xlabel='Samples', ylabel='Counts'>"
            ]
          },
          "metadata": {},
          "execution_count": 143
        }
      ]
    },
    {
      "cell_type": "code",
      "source": [
        "#printing most occuring words from review text in the dataset that are rated with 3.0\n",
        "\n",
        "review_3_fd"
      ],
      "metadata": {
        "colab": {
          "base_uri": "https://localhost:8080/"
        },
        "id": "tPtaj2r0ZohI",
        "outputId": "d4379a2b-6342-49f7-f949-e3b7211aff04"
      },
      "id": "tPtaj2r0ZohI",
      "execution_count": 144,
      "outputs": [
        {
          "output_type": "execute_result",
          "data": {
            "text/plain": [
              "FreqDist({'use': 9384, 'work': 6088, 'get': 5414, 'would': 4576, 'like': 4416, 'color': 4385, 'make': 4002, 'good': 3984, 'one': 3942, 'buy': 3357, ...})"
            ]
          },
          "metadata": {},
          "execution_count": 144
        }
      ]
    },
    {
      "cell_type": "code",
      "source": [
        "#finding most occuring words from review text in the dataset that are rated with 4.0\n",
        "\n",
        "all_reviews_4_raw = []\n",
        "df_4 = df_review[df_review['rating'] == 4]\n",
        "[all_reviews_4_raw.extend(x) for x in df_4['words']]\n",
        "\n",
        "#ploting most occuring words from review text in the dataset that are rated with 4.0\n",
        "\n",
        "review_4_fd = FreqDist(all_reviews_4_raw)\n",
        "review_4_fd.plot(10) "
      ],
      "metadata": {
        "colab": {
          "base_uri": "https://localhost:8080/",
          "height": 494
        },
        "id": "G5Ipu8ON2fN9",
        "outputId": "f2efb793-1155-4e6f-a360-56dad710836a"
      },
      "id": "G5Ipu8ON2fN9",
      "execution_count": 145,
      "outputs": [
        {
          "output_type": "display_data",
          "data": {
            "text/plain": [
              "<Figure size 640x480 with 1 Axes>"
            ],
            "image/png": "[encoded data removed]"
          },
          "metadata": {}
        },
        {
          "output_type": "execute_result",
          "data": {
            "text/plain": [
              "<Axes: xlabel='Samples', ylabel='Counts'>"
            ]
          },
          "metadata": {},
          "execution_count": 145
        }
      ]
    },
    {
      "cell_type": "code",
      "source": [
        "#printing most occuring words from review text in the dataset that are rated with 4.0\n",
        "\n",
        "review_4_fd"
      ],
      "metadata": {
        "colab": {
          "base_uri": "https://localhost:8080/"
        },
        "id": "5IYDGqOwa3jw",
        "outputId": "910f746b-ee62-4846-a67b-e007733b6037"
      },
      "id": "5IYDGqOwa3jw",
      "execution_count": 146,
      "outputs": [
        {
          "output_type": "execute_result",
          "data": {
            "text/plain": [
              "FreqDist({'use': 19074, 'work': 13456, 'good': 10903, 'great': 10032, 'get': 9115, 'make': 8862, 'like': 8655, 'color': 8316, 'well': 7609, 'would': 7209, ...})"
            ]
          },
          "metadata": {},
          "execution_count": 146
        }
      ]
    },
    {
      "cell_type": "code",
      "source": [
        "#finding most occuring words from review text in the dataset that are rated with 5.0\n",
        "\n",
        "all_reviews_5_raw = []\n",
        "df_5 = df_review[df_review['rating'] == 5]\n",
        "[all_reviews_5_raw.extend(x) for x in df_5['words']]\n",
        "\n",
        "#ploting most occuring words from review text in the dataset that are rated with 5.0\n",
        "from nltk.text import FreqDist\n",
        "review_5_fd = FreqDist(all_reviews_5_raw)\n",
        "review_5_fd.plot(10) "
      ],
      "metadata": {
        "colab": {
          "base_uri": "https://localhost:8080/",
          "height": 506
        },
        "id": "6qgjeg6n2mbF",
        "outputId": "b4375913-9150-4052-e6a6-48f7b1b6c3fd"
      },
      "id": "6qgjeg6n2mbF",
      "execution_count": 147,
      "outputs": [
        {
          "output_type": "display_data",
          "data": {
            "text/plain": [
              "<Figure size 640x480 with 1 Axes>"
            ],
            "image/png": "[encoded data removed]"
          },
          "metadata": {}
        },
        {
          "output_type": "execute_result",
          "data": {
            "text/plain": [
              "<Axes: xlabel='Samples', ylabel='Counts'>"
            ]
          },
          "metadata": {},
          "execution_count": 147
        }
      ]
    },
    {
      "cell_type": "code",
      "source": [
        "#printing most occuring words from review text in the dataset that are rated with 2.0\n",
        "\n",
        "review_5_fd"
      ],
      "metadata": {
        "id": "djHPIPaO2thW",
        "colab": {
          "base_uri": "https://localhost:8080/"
        },
        "outputId": "fd8a15a2-c644-4cb9-d3f6-02c0d47eacc5"
      },
      "id": "djHPIPaO2thW",
      "execution_count": 148,
      "outputs": [
        {
          "output_type": "execute_result",
          "data": {
            "text/plain": [
              "FreqDist({'use': 78823, 'great': 69294, 'work': 49262, 'love': 45103, 'make': 38463, 'color': 32220, 'good': 32081, 'buy': 28571, 'product': 28224, 'get': 27664, ...})"
            ]
          },
          "metadata": {},
          "execution_count": 148
        }
      ]
    },
    {
      "cell_type": "code",
      "source": [
        "#END"
      ],
      "metadata": {
        "id": "tzAV72QgDkTZ"
      },
      "id": "tzAV72QgDkTZ",
      "execution_count": null,
      "outputs": []
    }
  ],
  "metadata": {
    "colab": {
      "provenance": []
    },
    "kernelspec": {
      "display_name": "Python 3 (ipykernel)",
      "language": "python",
      "name": "python3"
    },
    "language_info": {
      "codemirror_mode": {
        "name": "ipython",
        "version": 3
      },
      "file_extension": ".py",
      "mimetype": "text/x-python",
      "name": "python",
      "nbconvert_exporter": "python",
      "pygments_lexer": "ipython3",
      "version": "3.10.6"
    }
  },
  "nbformat": 4,
  "nbformat_minor": 5
}